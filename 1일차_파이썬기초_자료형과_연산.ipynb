{
  "nbformat": 4,
  "nbformat_minor": 0,
  "metadata": {
    "colab": {
      "provenance": [],
      "authorship_tag": "ABX9TyNU8Ojiu69p1BEeVZLrr5po",
      "include_colab_link": true
    },
    "kernelspec": {
      "name": "python3",
      "display_name": "Python 3"
    },
    "language_info": {
      "name": "python"
    }
  },
  "cells": [
    {
      "cell_type": "markdown",
      "metadata": {
        "id": "view-in-github",
        "colab_type": "text"
      },
      "source": [
        "<a href=\"https://colab.research.google.com/github/choyoujung/data-analysis/blob/main/1%EC%9D%BC%EC%B0%A8_%ED%8C%8C%EC%9D%B4%EC%8D%AC%EA%B8%B0%EC%B4%88_%EC%9E%90%EB%A3%8C%ED%98%95%EA%B3%BC_%EC%97%B0%EC%82%B0.ipynb\" target=\"_parent\"><img src=\"https://colab.research.google.com/assets/colab-badge.svg\" alt=\"Open In Colab\"/></a>"
      ]
    },
    {
      "cell_type": "markdown",
      "source": [
        "**1.파이썬 자료형과 연산**"
      ],
      "metadata": {
        "id": "ml14GA10qDTr"
      }
    },
    {
      "cell_type": "code",
      "source": [
        "a=10\n",
        "b= '파이썬'\n",
        "print(a,b)\n"
      ],
      "metadata": {
        "colab": {
          "base_uri": "https://localhost:8080/"
        },
        "id": "cPfxR9rQqOSl",
        "outputId": "854ed8e8-4e61-43c6-be78-8941f725275e"
      },
      "execution_count": 2,
      "outputs": [
        {
          "output_type": "stream",
          "name": "stdout",
          "text": [
            "10 파이썬\n"
          ]
        }
      ]
    },
    {
      "cell_type": "markdown",
      "source": [
        "### #파이썬 버전"
      ],
      "metadata": {
        "id": "iVnLw6eay38L"
      }
    },
    {
      "cell_type": "code",
      "source": [
        "!python -V\n",
        "\n"
      ],
      "metadata": {
        "colab": {
          "base_uri": "https://localhost:8080/"
        },
        "id": "oS6xiqOlzC7K",
        "outputId": "1e73cc6b-8332-43c3-a3af-eb66e3ecd9d3"
      },
      "execution_count": 5,
      "outputs": [
        {
          "output_type": "stream",
          "name": "stdout",
          "text": [
            "Python 3.10.12\n"
          ]
        }
      ]
    },
    {
      "cell_type": "code",
      "source": [
        "import sys\n",
        "print('---',sys.version)\n",
        "sys.version\n"
      ],
      "metadata": {
        "colab": {
          "base_uri": "https://localhost:8080/",
          "height": 54
        },
        "id": "JMZMTI4sznxb",
        "outputId": "5a1819e8-5687-43ac-cd5e-df426f61b673"
      },
      "execution_count": 7,
      "outputs": [
        {
          "output_type": "stream",
          "name": "stdout",
          "text": [
            "--- 3.10.12 (main, Nov 20 2023, 15:14:05) [GCC 11.4.0]\n"
          ]
        },
        {
          "output_type": "execute_result",
          "data": {
            "text/plain": [
              "'3.10.12 (main, Nov 20 2023, 15:14:05) [GCC 11.4.0]'"
            ],
            "application/vnd.google.colaboratory.intrinsic+json": {
              "type": "string"
            }
          },
          "metadata": {},
          "execution_count": 7
        }
      ]
    },
    {
      "cell_type": "code",
      "source": [
        "# 파이썬 설치 위치\n",
        "import sys\n",
        "print(sys.executable)"
      ],
      "metadata": {
        "colab": {
          "base_uri": "https://localhost:8080/"
        },
        "id": "zz3VVePtz6MJ",
        "outputId": "275aee9b-d8c2-4f4a-b9b2-199aee1ecc57"
      },
      "execution_count": 10,
      "outputs": [
        {
          "output_type": "stream",
          "name": "stdout",
          "text": [
            "/usr/bin/python3\n"
          ]
        }
      ]
    },
    {
      "cell_type": "code",
      "source": [
        "# 물리적 설치 위치\n",
        "import os\n",
        "os.getcwd()"
      ],
      "metadata": {
        "colab": {
          "base_uri": "https://localhost:8080/",
          "height": 35
        },
        "id": "4owhn1cq1kra",
        "outputId": "9378b44a-e1f2-4029-cb1f-ce1ae9be9849"
      },
      "execution_count": 12,
      "outputs": [
        {
          "output_type": "execute_result",
          "data": {
            "text/plain": [
              "'/content'"
            ],
            "application/vnd.google.colaboratory.intrinsic+json": {
              "type": "string"
            }
          },
          "metadata": {},
          "execution_count": 12
        }
      ]
    },
    {
      "cell_type": "code",
      "source": [
        "###1.\n",
        "print(10+(3*4))\n",
        "###2.\n",
        "print(15*1300000)\n",
        "###3.\n",
        "a=123\n",
        "print(a%2,': 결과가 0 짝수 1이면 홀수')\n",
        "###4.\n",
        "print('(2**3)*(5**4)*(3**4):',(2**3)*(5**4)*(3**4))\n"
      ],
      "metadata": {
        "colab": {
          "base_uri": "https://localhost:8080/"
        },
        "id": "0KWx6u0k2E46",
        "outputId": "a6f4a305-f27d-48df-c9df-c885137d91aa"
      },
      "execution_count": 18,
      "outputs": [
        {
          "output_type": "stream",
          "name": "stdout",
          "text": [
            "22\n",
            "1950\n",
            "1 : 결과가 0 짝수 1이면 홀수\n",
            "(2**3)*(5**4)*(3**4): 405000\n"
          ]
        }
      ]
    },
    {
      "cell_type": "markdown",
      "source": [
        "### 파이썬 자료형 확인"
      ],
      "metadata": {
        "id": "faWRLl9Q92eH"
      }
    },
    {
      "cell_type": "code",
      "source": [
        "print(type(123))\n",
        "print(type(.23))\n",
        "print(type('123'))\n",
        "print(type((123,)))\n",
        "print(type({'123':123}))\n",
        "print(type({123}))\n",
        "print(type(True))"
      ],
      "metadata": {
        "colab": {
          "base_uri": "https://localhost:8080/"
        },
        "id": "XZxmIseD9wkD",
        "outputId": "a2cb37b3-d12d-414d-f512-452cd689e7b5"
      },
      "execution_count": 20,
      "outputs": [
        {
          "output_type": "stream",
          "name": "stdout",
          "text": [
            "<class 'int'>\n",
            "<class 'float'>\n",
            "<class 'str'>\n",
            "<class 'tuple'>\n",
            "<class 'dict'>\n",
            "<class 'set'>\n",
            "<class 'bool'>\n"
          ]
        }
      ]
    },
    {
      "cell_type": "markdown",
      "source": [
        "## 표준 입출력"
      ],
      "metadata": {
        "id": "oB1Ir3zVCbfs"
      }
    },
    {
      "cell_type": "code",
      "source": [
        "a=input('키보드로 숫자를 입력해 주세요:')\n",
        "print(type(a))\n",
        "\n",
        "a=int(a)\n",
        "print(type(a))\n",
        "\n",
        "a=float(a)\n",
        "print(type(a))"
      ],
      "metadata": {
        "colab": {
          "base_uri": "https://localhost:8080/"
        },
        "id": "dX3qgynACe68",
        "outputId": "7981fd35-07f7-49b7-e141-4772bb7be329"
      },
      "execution_count": 22,
      "outputs": [
        {
          "output_type": "stream",
          "name": "stdout",
          "text": [
            "키보드로 숫자를 입력해 주세요:20\n",
            "<class 'str'>\n",
            "<class 'int'>\n",
            "<class 'float'>\n"
          ]
        }
      ]
    },
    {
      "cell_type": "code",
      "source": [
        "## 문자열 포멧팅\n",
        "a=input('키보드 입력 : ')\n",
        "print('변수 a 값은',a,'입니다')\n",
        "print('변수 a값은 %s 입니다' % a)\n",
        "print(f'변수 a 값은 {a}입니다.')\n"
      ],
      "metadata": {
        "colab": {
          "base_uri": "https://localhost:8080/"
        },
        "id": "yMk47BkDF2RM",
        "outputId": "afd12593-8e55-4378-ce31-e3992087fae2"
      },
      "execution_count": 30,
      "outputs": [
        {
          "output_type": "stream",
          "name": "stdout",
          "text": [
            "키보드 입력 : 3\n",
            "변수 a 값은 3 입니다\n",
            "변수 a값은 3 입니다\n",
            "변수 a 값은 3입니다.\n"
          ]
        }
      ]
    },
    {
      "cell_type": "code",
      "source": [
        "## 덧셈\n",
        "a=int(input('a값 입력:'))\n",
        "b=int(input('b값 입력:'))\n",
        "\n",
        "c= a+b\n",
        "print('a+b = %d' %c)\n",
        "c= a-b\n",
        "print('a-b = %s' %c)\n",
        "c= a*b\n",
        "print('a*b = %s' %c)\n",
        "c= a//b\n",
        "print('a//b = %s' %c)\n",
        "c= a%b\n",
        "print(f'나머지 {c}')\n",
        "\n",
        "\n",
        "### 3\n",
        "c= a % b\n",
        "print('a % b = %d' %c)\n",
        "\n"
      ],
      "metadata": {
        "colab": {
          "base_uri": "https://localhost:8080/",
          "height": 331
        },
        "id": "Rw292p0ZHUmZ",
        "outputId": "a02a3f18-f7bb-44c0-8da0-cb83ab69ff9b"
      },
      "execution_count": 56,
      "outputs": [
        {
          "output_type": "stream",
          "name": "stdout",
          "text": [
            "a값 입력:50\n",
            "b값 입력:3\n",
            "a+b = 53\n",
            "a-b = 47\n",
            "a*b = 150\n",
            "a//b = 16\n",
            "나머지 2\n"
          ]
        },
        {
          "output_type": "error",
          "ename": "ValueError",
          "evalue": "unsupported format character 'b' (0x62) at index 4",
          "traceback": [
            "\u001b[0;31m---------------------------------------------------------------------------\u001b[0m",
            "\u001b[0;31mValueError\u001b[0m                                Traceback (most recent call last)",
            "\u001b[0;32m<ipython-input-56-3f71d3ed17c2>\u001b[0m in \u001b[0;36m<cell line: 19>\u001b[0;34m()\u001b[0m\n\u001b[1;32m     17\u001b[0m \u001b[0;31m### 3\u001b[0m\u001b[0;34m\u001b[0m\u001b[0;34m\u001b[0m\u001b[0m\n\u001b[1;32m     18\u001b[0m \u001b[0mc\u001b[0m\u001b[0;34m=\u001b[0m \u001b[0ma\u001b[0m \u001b[0;34m%\u001b[0m \u001b[0mb\u001b[0m\u001b[0;34m\u001b[0m\u001b[0;34m\u001b[0m\u001b[0m\n\u001b[0;32m---> 19\u001b[0;31m \u001b[0mprint\u001b[0m\u001b[0;34m(\u001b[0m\u001b[0;34m'a % b = %d'\u001b[0m \u001b[0;34m%\u001b[0m\u001b[0mc\u001b[0m\u001b[0;34m)\u001b[0m\u001b[0;34m\u001b[0m\u001b[0;34m\u001b[0m\u001b[0m\n\u001b[0m\u001b[1;32m     20\u001b[0m \u001b[0;34m\u001b[0m\u001b[0m\n",
            "\u001b[0;31mValueError\u001b[0m: unsupported format character 'b' (0x62) at index 4"
          ]
        }
      ]
    },
    {
      "cell_type": "code",
      "source": [
        "## 시간\n",
        "\n",
        "v = input('속력입력 :')\n",
        "d = input('거리입력 :')\n",
        "\n",
        "print(f'속력:{v}')\n",
        "print(f'거리:{d}')\n",
        "c = int(d)/int(v)\n",
        "print(f'시간 : {c}')"
      ],
      "metadata": {
        "colab": {
          "base_uri": "https://localhost:8080/"
        },
        "id": "HgKK8Hw2Lz9e",
        "outputId": "5f501a13-b7d9-4905-8c0c-2b6ac0309ed2"
      },
      "execution_count": 41,
      "outputs": [
        {
          "output_type": "stream",
          "name": "stdout",
          "text": [
            "속력입력 :100\n",
            "거리입력 :340\n",
            "속력:100\n",
            "거리:340\n",
            "시간 : 3.4\n"
          ]
        }
      ]
    },
    {
      "cell_type": "code",
      "source": [
        "import math\n",
        "print(f'반지름이 4인 원의 넓이 : {round(math.pi*4**2,4)}')\n",
        "\n",
        "print(f'3.14곱하기2 나누기7의 값 반올림 : {round(3.14*2/7)}')\n",
        "\n",
        "print(f'원주율 3.14 만들어 반지름이 4인원의 둘레길이 : {2*3.14*4}')"
      ],
      "metadata": {
        "colab": {
          "base_uri": "https://localhost:8080/"
        },
        "id": "RjZZ1I89P3a-",
        "outputId": "c238a31c-08a4-4fa7-8e74-984d442e2aa1"
      },
      "execution_count": 49,
      "outputs": [
        {
          "output_type": "stream",
          "name": "stdout",
          "text": [
            "반지름이 4인 원의 넓이 : 50.2655\n",
            "3.14곱하기2 나누기7의 값 반올림 : 1\n",
            "원주율 3.14 만들어 반지름이 4인원의 둘레길이 : 25.12\n"
          ]
        }
      ]
    }
  ]
}