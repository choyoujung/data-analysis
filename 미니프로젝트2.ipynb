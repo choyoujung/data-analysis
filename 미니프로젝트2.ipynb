{
  "nbformat": 4,
  "nbformat_minor": 0,
  "metadata": {
    "colab": {
      "provenance": [],
      "authorship_tag": "ABX9TyMxEqB4UQ1TwLHVsHDsxcgU",
      "include_colab_link": true
    },
    "kernelspec": {
      "name": "python3",
      "display_name": "Python 3"
    },
    "language_info": {
      "name": "python"
    }
  },
  "cells": [
    {
      "cell_type": "markdown",
      "metadata": {
        "id": "view-in-github",
        "colab_type": "text"
      },
      "source": [
        "<a href=\"https://colab.research.google.com/github/choyoujung/data-analysis/blob/main/%EB%AF%B8%EB%8B%88%ED%94%84%EB%A1%9C%EC%A0%9D%ED%8A%B82.ipynb\" target=\"_parent\"><img src=\"https://colab.research.google.com/assets/colab-badge.svg\" alt=\"Open In Colab\"/></a>"
      ]
    },
    {
      "cell_type": "code",
      "execution_count": 1,
      "metadata": {
        "colab": {
          "base_uri": "https://localhost:8080/"
        },
        "id": "N4WCjb6B9UFv",
        "outputId": "3e1d470c-81d2-45a1-b3e1-b966a456ce3b"
      },
      "outputs": [
        {
          "output_type": "stream",
          "name": "stdout",
          "text": [
            "\n",
            "할 일을 추가하려면 '추가', 삭제하려면 '삭제', 목록을 보려면 '보기', 종료하려면 '종료'를 입력하세요.\n",
            "명령을 입력하세요: 추가\n",
            "추가할 할 일을 입력하세요: 자바스크립으로 웹화면 구현\n",
            "할 일이 추가되었습니다.\n",
            "\n",
            "할 일을 추가하려면 '추가', 삭제하려면 '삭제', 목록을 보려면 '보기', 종료하려면 '종료'를 입력하세요.\n",
            "명령을 입력하세요: 추가\n",
            "추가할 할 일을 입력하세요: 파이썬으로 달려 만들기\n",
            "할 일이 추가되었습니다.\n",
            "\n",
            "할 일을 추가하려면 '추가', 삭제하려면 '삭제', 목록을 보려면 '보기', 종료하려면 '종료'를 입력하세요.\n",
            "명령을 입력하세요: 추가\n",
            "추가할 할 일을 입력하세요: 웹과 파이썬 연동하기\n",
            "할 일이 추가되었습니다.\n",
            "\n",
            "할 일을 추가하려면 '추가', 삭제하려면 '삭제', 목록을 보려면 '보기', 종료하려면 '종료'를 입력하세요.\n",
            "명령을 입력하세요: 보기\n",
            "할 일 목록:\n",
            "1. 자바스크립으로 웹화면 구현\n",
            "2. 파이썬으로 달려 만들기\n",
            "3. 웹과 파이썬 연동하기\n",
            "\n",
            "할 일을 추가하려면 '추가', 삭제하려면 '삭제', 목록을 보려면 '보기', 종료하려면 '종료'를 입력하세요.\n",
            "명령을 입력하세요: 삭제\n",
            "삭제할 할 일을 입력하세요: 파이썬으로 달력 만들기\n",
            "해당 할 일을 찾을 수 없습니다.\n",
            "\n",
            "할 일을 추가하려면 '추가', 삭제하려면 '삭제', 목록을 보려면 '보기', 종료하려면 '종료'를 입력하세요.\n",
            "명령을 입력하세요: 파이썬으로 달려 만들기\n",
            "올바른 명령을 입력하세요.\n",
            "\n",
            "할 일을 추가하려면 '추가', 삭제하려면 '삭제', 목록을 보려면 '보기', 종료하려면 '종료'를 입력하세요.\n",
            "명령을 입력하세요: 삭제\n",
            "삭제할 할 일을 입력하세요: 파이썬으로 달려 만들기\n",
            "할 일이 삭제되었습니다.\n",
            "\n",
            "할 일을 추가하려면 '추가', 삭제하려면 '삭제', 목록을 보려면 '보기', 종료하려면 '종료'를 입력하세요.\n",
            "명령을 입력하세요: 보기\n",
            "할 일 목록:\n",
            "1. 자바스크립으로 웹화면 구현\n",
            "2. 웹과 파이썬 연동하기\n",
            "\n",
            "할 일을 추가하려면 '추가', 삭제하려면 '삭제', 목록을 보려면 '보기', 종료하려면 '종료'를 입력하세요.\n",
            "명령을 입력하세요: 종료\n",
            "프로그램을 종료합니다.\n"
          ]
        }
      ],
      "source": [
        "class TodoList:\n",
        "    def __init__(self):\n",
        "        self.tasks = []\n",
        "\n",
        "    def add_task(self, task):\n",
        "        self.tasks.append(task)\n",
        "        print(\"할 일이 추가되었습니다.\")\n",
        "\n",
        "    def remove_task(self, task):\n",
        "        if task in self.tasks:\n",
        "            self.tasks.remove(task)\n",
        "            print(\"할 일이 삭제되었습니다.\")\n",
        "        else:\n",
        "            print(\"해당 할 일을 찾을 수 없습니다.\")\n",
        "\n",
        "    def view_tasks(self):\n",
        "        if self.tasks:\n",
        "            print(\"할 일 목록:\")\n",
        "            for i, task in enumerate(self.tasks, 1):\n",
        "                print(f\"{i}. {task}\")\n",
        "        else:\n",
        "            print(\"할 일이 없습니다.\")\n",
        "\n",
        "def main():\n",
        "    todo_list = TodoList()\n",
        "\n",
        "    while True:\n",
        "        print(\"\\n할 일을 추가하려면 '추가', 삭제하려면 '삭제', 목록을 보려면 '보기', 종료하려면 '종료'를 입력하세요.\")\n",
        "        choice = input(\"명령을 입력하세요: \").strip().lower()\n",
        "\n",
        "        if choice == \"추가\":\n",
        "            task = input(\"추가할 할 일을 입력하세요: \")\n",
        "            todo_list.add_task(task)\n",
        "        elif choice == \"삭제\":\n",
        "            task = input(\"삭제할 할 일을 입력하세요: \")\n",
        "            todo_list.remove_task(task)\n",
        "        elif choice == \"보기\":\n",
        "            todo_list.view_tasks()\n",
        "        elif choice == \"종료\":\n",
        "            print(\"프로그램을 종료합니다.\")\n",
        "            break\n",
        "        else:\n",
        "            print(\"올바른 명령을 입력하세요.\")\n",
        "\n",
        "if __name__ == \"__main__\":\n",
        "    main()"
      ]
    },
    {
      "cell_type": "code",
      "source": [
        "import requests\n",
        "\n",
        "def get_weather(city, api_key):\n",
        "    url = f\"http://api.openweathermap.org/data/2.5/weather?q={city}&appid={api_key}&units=metric\"\n",
        "    response = requests.get(url)\n",
        "    data = response.json()\n",
        "\n",
        "    if data[\"cod\"] == 200:\n",
        "        weather_description = data[\"weather\"][0][\"description\"]\n",
        "        temperature = data[\"main\"][\"temp\"]\n",
        "        humidity = data[\"main\"][\"humidity\"]\n",
        "        wind_speed = data[\"wind\"][\"speed\"]\n",
        "\n",
        "        print(f\"도시: {city}\")\n",
        "        print(f\"날씨: {weather_description}\")\n",
        "        print(f\"온도: {temperature} °C\")\n",
        "        print(f\"습도: {humidity}%\")\n",
        "        print(f\"풍속: {wind_speed} m/s\")\n",
        "    else:\n",
        "        print(\"날씨 정보를 가져올 수 없습니다.\")\n",
        "\n",
        "def main():\n",
        "    api_key = \"YOUR_API_KEY\"  # OpenWeatherMap API 키를 입력하세요\n",
        "    city = input(\"날씨를 확인할 도시를 입력하세요: \")\n",
        "    get_weather(city, api_key)\n",
        "\n",
        "if __name__ == \"__main__\":\n",
        "    main()\n",
        "\n",
        "\n",
        "\n",
        "# 죄송합니다만, OpenWeatherMap API 키는 개인적인 정보이기 때문에 보안 상의 이유로 제공할 수 없습니다. 하지만 OpenWeatherMap 웹사이트에서 무료로 계정을 생성하고 API 키를 발급받을 수 있습니다. 아래 단계를 따라서 API 키를 발급받으실 수 있습니다:\n",
        "\n",
        "# OpenWeatherMap 웹사이트에 접속하여 회원가입 또는 로그인합니다: OpenWeatherMap.\n",
        "# 로그인한 후, API keys 페이지로 이동합니다: API keys.\n",
        "# \"Generate API key\" 버튼을 클릭하여 새로운 API 키를 생성합니다.\n",
        "# 생성된 API 키를 복사하여 안전한 곳에 저장합니다.\n",
        "# API 키를 얻은 후에는 코드 예제에서 \"YOUR_API_KEY\" 부분을 발급받은 API 키로 대체하면 됩니다."
      ],
      "metadata": {
        "colab": {
          "base_uri": "https://localhost:8080/"
        },
        "id": "hFbc7ZiI-_fZ",
        "outputId": "fea85bfd-cba2-4edb-b151-3336a28589f4"
      },
      "execution_count": 3,
      "outputs": [
        {
          "output_type": "stream",
          "name": "stdout",
          "text": [
            "날씨를 확인할 도시를 입력하세요: South Korea\n",
            "날씨 정보를 가져올 수 없습니다.\n"
          ]
        }
      ]
    },
    {
      "cell_type": "code",
      "source": [
        "# 명령 프롬프트에 pip install Flask 실행\n",
        "# app.py\n",
        "\n",
        "from flask import Flask, render_template, request\n",
        "\n",
        "app = Flask(__name__)\n",
        "\n",
        "@app.route('/')\n",
        "def index():\n",
        "    return render_template('index.html')\n",
        "\n",
        "@app.route('/save', methods=['POST'])\n",
        "def save():\n",
        "    name = request.form['name']\n",
        "    age = request.form['age']\n",
        "\n",
        "    with open('user_info.txt', 'a') as f:\n",
        "        f.write(f'이름: {name}, 나이: {age}\\n')\n",
        "\n",
        "    return '저장되었습니다!'\n",
        "\n",
        "if __name__ == '__main__':\n",
        "    app.run(debug=True)\n",
        "\n",
        "\n",
        "\n",
        "#  templates  폴더에index.html 생성\n",
        "<!DOCTYPE html>\n",
        "<html>\n",
        "<head>\n",
        "    <title>사용자 정보 입력</title>\n",
        "</head>\n",
        "<body>\n",
        "    <h2>이름과 나이를 입력하세요:</h2>\n",
        "    <form action=\"/save\" method=\"post\">\n",
        "        <label for=\"name\">이름:</label><br>\n",
        "        <input type=\"text\" id=\"name\" name=\"name\"><br>\n",
        "        <label for=\"age\">나이:</label><br>\n",
        "        <input type=\"text\" id=\"age\" name=\"age\"><br><br>\n",
        "        <input type=\"submit\" value=\"저장\">\n",
        "    </form>\n",
        "</body>\n",
        "</html>\n",
        "\n",
        "# 명령 프롬프트에 python app.py 실행\n",
        "# Flask 애플리케이션이 실행되면서 로컬 서버가 시작됩니다. 일반적으로 http://127.0.0.1:5000/ 또는 http://localhost:5000/ 주소로 액세스할 수 있습니다.\n"
      ],
      "metadata": {
        "id": "cgZ3An8QN4vi"
      },
      "execution_count": null,
      "outputs": []
    }
  ]
}