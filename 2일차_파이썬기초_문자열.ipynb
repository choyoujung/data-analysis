{
  "nbformat": 4,
  "nbformat_minor": 0,
  "metadata": {
    "colab": {
      "provenance": [],
      "authorship_tag": "ABX9TyNtyQxMuacEE5tNwTgcFikq",
      "include_colab_link": true
    },
    "kernelspec": {
      "name": "python3",
      "display_name": "Python 3"
    },
    "language_info": {
      "name": "python"
    }
  },
  "cells": [
    {
      "cell_type": "markdown",
      "metadata": {
        "id": "view-in-github",
        "colab_type": "text"
      },
      "source": [
        "<a href=\"https://colab.research.google.com/github/choyoujung/data-analysis/blob/main/2%EC%9D%BC%EC%B0%A8_%ED%8C%8C%EC%9D%B4%EC%8D%AC%EA%B8%B0%EC%B4%88_%EB%AC%B8%EC%9E%90%EC%97%B4.ipynb\" target=\"_parent\"><img src=\"https://colab.research.google.com/assets/colab-badge.svg\" alt=\"Open In Colab\"/></a>"
      ]
    },
    {
      "cell_type": "code",
      "execution_count": null,
      "metadata": {
        "id": "XH0uOsnSObJl"
      },
      "outputs": [],
      "source": []
    },
    {
      "cell_type": "markdown",
      "source": [
        "#1.파이썬 자료형과 연산\n",
        "**문자열**"
      ],
      "metadata": {
        "id": "i8f-6Y9LOlkO"
      }
    },
    {
      "cell_type": "code",
      "source": [
        "# 큰따옴표(or 작은 따옴표)로 표시\n",
        "a = '사과'\n",
        "a = \"사과\"\n",
        "a = \"Yes, I can't\"\n",
        "a='\"사과는 정말 맛있지?\"라고 얘기함.'\n",
        "\n",
        "print(a)"
      ],
      "metadata": {
        "colab": {
          "base_uri": "https://localhost:8080/"
        },
        "id": "Y8qwd728OtUW",
        "outputId": "f04d5df3-3972-4c37-b957-4001e39fa5d4"
      },
      "execution_count": 5,
      "outputs": [
        {
          "output_type": "stream",
          "name": "stdout",
          "text": [
            "\"사과는 정말 맛있지?\"라고 얘기함.\n"
          ]
        }
      ]
    },
    {
      "cell_type": "code",
      "source": [
        "# 한중이상 문장->따옴표 3개\n",
        "\n",
        "a=''' # 맛있다 카페 메뉴판\n",
        "-아메리카노 : 3000원\n",
        "-카페라떼 : 4000원\n",
        "-카페모카 : 4000원'''\n",
        "\n",
        "print(a)\n",
        "coffee = input(f'{a} \\n주문하실 메뉴를 골라주세요!')\n",
        "print(f'주문하신 메뉴는 \"{coffee}\"입니다.')"
      ],
      "metadata": {
        "colab": {
          "base_uri": "https://localhost:8080/"
        },
        "id": "8Cm55YBbRaTP",
        "outputId": "db1fac2e-1ea9-4f75-956e-ae808e37d6db"
      },
      "execution_count": 11,
      "outputs": [
        {
          "output_type": "stream",
          "name": "stdout",
          "text": [
            " # 맛있다 카페 메뉴판\n",
            "-아메리카노 : 3000원\n",
            "-카페라떼 : 4000원\n",
            "-카페모카 : 4000원\n",
            " # 맛있다 카페 메뉴판\n",
            "-아메리카노 : 3000원\n",
            "-카페라떼 : 4000원\n",
            "-카페모카 : 4000원 \n",
            "주문하실 메뉴를 골라주세요!11\n",
            "주문하신 메뉴는 \"11\"입니다.\n"
          ]
        }
      ]
    },
    {
      "cell_type": "markdown",
      "source": [
        "##gtts 음성"
      ],
      "metadata": {
        "id": "aISqm5jHT-a-"
      }
    },
    {
      "cell_type": "code",
      "source": [
        "# gtts 모듈로 텍스트를 소리로 읽어주기\n",
        "from gtts import gTTS\n",
        "from IPython.display import Audio\n",
        "\n",
        "# 영어 출력\n",
        "# eng_wav = gTTS('Hello World!')\n",
        "# eng_wav.save('eng.wav')\n",
        "# display(Audio('kor.wav', autoplay=True))\n",
        "\n",
        "# 한국어 출력\n",
        "kor_wav = gTTS(coffee, lang = 'ko')\n",
        "kor_wav.save('kor.wav')\n",
        "display(Audio('kor.wav', autoplay=True))"
      ],
      "metadata": {
        "colab": {
          "base_uri": "https://localhost:8080/",
          "height": 74
        },
        "id": "KPevBd7RT8We",
        "outputId": "c0279f9e-ad08-456f-b14c-990712e7d758"
      },
      "execution_count": 22,
      "outputs": [
        {
          "output_type": "display_data",
          "data": {
            "text/plain": [
              "<IPython.lib.display.Audio object>"
            ],
            "text/html": [
              "\n",
              "                <audio  controls=\"controls\" autoplay=\"autoplay\">\n",
              "                    <source src=\"data:audio/x-wav;base64,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\" type=\"audio/x-wav\" />\n",
              "                    Your browser does not support the audio element.\n",
              "                </audio>\n",
              "              "
            ]
          },
          "metadata": {}
        }
      ]
    },
    {
      "cell_type": "code",
      "source": [
        "!pip install gTTS"
      ],
      "metadata": {
        "colab": {
          "base_uri": "https://localhost:8080/"
        },
        "id": "4xfdiOW3cZgu",
        "outputId": "5d4112ae-abd7-42d3-9acb-7ca4c3fbe9ae"
      },
      "execution_count": 16,
      "outputs": [
        {
          "output_type": "stream",
          "name": "stdout",
          "text": [
            "Collecting gTTS\n",
            "  Downloading gTTS-2.5.1-py3-none-any.whl (29 kB)\n",
            "Requirement already satisfied: requests<3,>=2.27 in /usr/local/lib/python3.10/dist-packages (from gTTS) (2.31.0)\n",
            "Requirement already satisfied: click<8.2,>=7.1 in /usr/local/lib/python3.10/dist-packages (from gTTS) (8.1.7)\n",
            "Requirement already satisfied: charset-normalizer<4,>=2 in /usr/local/lib/python3.10/dist-packages (from requests<3,>=2.27->gTTS) (3.3.2)\n",
            "Requirement already satisfied: idna<4,>=2.5 in /usr/local/lib/python3.10/dist-packages (from requests<3,>=2.27->gTTS) (3.6)\n",
            "Requirement already satisfied: urllib3<3,>=1.21.1 in /usr/local/lib/python3.10/dist-packages (from requests<3,>=2.27->gTTS) (2.0.7)\n",
            "Requirement already satisfied: certifi>=2017.4.17 in /usr/local/lib/python3.10/dist-packages (from requests<3,>=2.27->gTTS) (2024.2.2)\n",
            "Installing collected packages: gTTS\n",
            "Successfully installed gTTS-2.5.1\n"
          ]
        }
      ]
    },
    {
      "cell_type": "markdown",
      "source": [
        "### + 기호  : 문자열을 합쳐서 출력"
      ],
      "metadata": {
        "id": "_M78C-J4enm1"
      }
    },
    {
      "cell_type": "code",
      "source": [
        "print('사과' + '맛있어')\n",
        "print('사과' , '맛있어')\n"
      ],
      "metadata": {
        "colab": {
          "base_uri": "https://localhost:8080/"
        },
        "id": "KLKL89bHemCO",
        "outputId": "2dccda5d-7a23-44a3-cf10-0a86d9d021a6"
      },
      "execution_count": 24,
      "outputs": [
        {
          "output_type": "stream",
          "name": "stdout",
          "text": [
            "사과맛있어\n",
            "사과 맛있어\n"
          ]
        }
      ]
    },
    {
      "cell_type": "markdown",
      "source": [
        "### '*'반복의 의미"
      ],
      "metadata": {
        "id": "1wB1GMKofA2d"
      }
    },
    {
      "cell_type": "code",
      "source": [
        "print('반짝'*2, '눈이 부셔','노'*5)\n",
        "print('*' *50)"
      ],
      "metadata": {
        "colab": {
          "base_uri": "https://localhost:8080/"
        },
        "id": "1JVURwa9e5ad",
        "outputId": "7f0e84e9-971c-46d3-912f-130875c10273"
      },
      "execution_count": 25,
      "outputs": [
        {
          "output_type": "stream",
          "name": "stdout",
          "text": [
            "반짝반짝 눈이 부셔 노노노노노\n",
            "**************************************************\n"
          ]
        }
      ]
    },
    {
      "cell_type": "code",
      "source": [
        "#문제1: 화면에   Mary’s cosmetics 출력\n",
        "print('Mary’s cosmetics')\n",
        "# 문제2: 화면에  박씨가 소리질렀다. “도둑이야!”. 출력\n",
        "print('화면에  박씨가 소리질렀다. “도둑이야!”. ')\n",
        "# 문제3: 다음 코드 실행시켜서 \\t와 \\n의 역할 확인하기\n",
        "print(\"안녕하세요.\\n오늘\\t날씨가\\t\\t좋습니다.\")"
      ],
      "metadata": {
        "colab": {
          "base_uri": "https://localhost:8080/"
        },
        "id": "nFSSupVIfhuO",
        "outputId": "6fb5e908-85b6-4afb-e108-00f1f2815447"
      },
      "execution_count": 27,
      "outputs": [
        {
          "output_type": "stream",
          "name": "stdout",
          "text": [
            "Mary’s cosmetics\n",
            "화면에  박씨가 소리질렀다. “도둑이야!”. \n",
            "안녕하세요.\n",
            "오늘\t날씨가\t\t좋습니다.\n"
          ]
        }
      ]
    },
    {
      "cell_type": "code",
      "source": [
        "a='사랑해요 파이썬!'\n",
        "\n",
        "print(a[::2])"
      ],
      "metadata": {
        "colab": {
          "base_uri": "https://localhost:8080/"
        },
        "id": "acIAIIELh0q9",
        "outputId": "a37c75b6-a91a-4955-8e1e-8fe7e0ecd316"
      },
      "execution_count": 48,
      "outputs": [
        {
          "output_type": "stream",
          "name": "stdout",
          "text": [
            "사해 이!\n"
          ]
        }
      ]
    },
    {
      "cell_type": "markdown",
      "source": [
        "문자열에서 자주 사용하는 함수\n"
      ],
      "metadata": {
        "id": "wmIHId3Vknfe"
      }
    },
    {
      "cell_type": "code",
      "source": [
        "a=\"Life is too short!\"\n",
        "print(f\"문자열 갯수: {a.count('o')}\")\n",
        "print(f\"문자열 위치:{a.find('f')}\")\n",
        "print(f\"문자열 위치:{a.index('f')}\")\n",
        "b = '*'\n",
        "print(f\"문자열 삽입:{b.join(a)}\")\n",
        "print(f\"문자열 변환:{a.replace('Life', 'Your leg')}\")\n",
        "print(f\"문자열 나누기:{a.split()}\")\n",
        "print(f\"문자열 나누기:{a.split('is')}\")\n"
      ],
      "metadata": {
        "colab": {
          "base_uri": "https://localhost:8080/"
        },
        "id": "1c29Fk_Lkmh0",
        "outputId": "d39465db-a2e4-4c13-8e23-f1d04ba1181b"
      },
      "execution_count": 42,
      "outputs": [
        {
          "output_type": "stream",
          "name": "stdout",
          "text": [
            "문자열 갯수: 3\n",
            "문자열 위치:2\n",
            "문자열 위치:2\n",
            "문자열 삽입:L*i*f*e* *i*s* *t*o*o* *s*h*o*r*t*!\n",
            "문자열 변환:Your leg is too short!\n",
            "문자열 나누기:['Life', 'is', 'too', 'short!']\n",
            "문자열 나누기:['Life ', ' too short!']\n"
          ]
        }
      ]
    },
    {
      "cell_type": "code",
      "source": [
        "s = input('문자열을 입력하세요:')\n",
        "\n",
        "print(s[::-1])"
      ],
      "metadata": {
        "colab": {
          "base_uri": "https://localhost:8080/"
        },
        "id": "0llPgAVfm1y7",
        "outputId": "a5b8ce0e-82fc-4440-eac9-cc42630ff880"
      },
      "execution_count": 44,
      "outputs": [
        {
          "output_type": "stream",
          "name": "stdout",
          "text": [
            "문자열을 입력하세요:사랑해요 파이썬\n",
            "썬이파 요해랑사\n"
          ]
        }
      ]
    },
    {
      "cell_type": "code",
      "source": [
        "a = input('파일을 입력하세요:')\n",
        "b = a.split('.')\n",
        "print(f\"파일명:{b[0]} 확장자:{b[1]}\")\n"
      ],
      "metadata": {
        "colab": {
          "base_uri": "https://localhost:8080/"
        },
        "id": "GRQg-3nKoFU0",
        "outputId": "e50d3e07-f973-4a9c-d363-c73ae4e53755"
      },
      "execution_count": 47,
      "outputs": [
        {
          "output_type": "stream",
          "name": "stdout",
          "text": [
            "파일을 입력하세요:test.py\n",
            "파일명:test 확장자:py\n"
          ]
        }
      ]
    },
    {
      "cell_type": "code",
      "source": [
        "# ✓ 음식가격:  4,450 원\n",
        "# ✓ 세금: 6.75%\n",
        "# ✓ 팁: 15%\n",
        "# • 아래 조건을 보고 음식의 총 가격에 팁을 적용하여 지출할 음식 가격을 출력하세요.\n",
        "# 지불할 음식 총 가격 계산하기\n",
        "# 1. meal 변수를 선언하고 값을 4450으로 지정하세요.\n",
        "# 2. tax 변수를 생성하고 값으로 6.75%를 소수점 형태로 지정하세요.\n",
        "# 3. tip 변수를 생성하고 값으로 15%를 소수점 형태로 지정하세요.\n",
        "# 4. meal의 변수값에 세금을 곱해 meal 변수에 지정하세요.\n",
        "# 5. 음식값에 tip을 더해 total 변수에 지정하세요.\n",
        "# 6. total 변수 값을 출력하세요\n",
        "meal = 4450\n",
        "tax = 0.0675\n",
        "tip = 0.15\n",
        "meal = meal +(meal*tax)\n",
        "total = meal + (meal*tip)\n",
        "\n",
        "print(f'{round(total,2): ,}')"
      ],
      "metadata": {
        "colab": {
          "base_uri": "https://localhost:8080/"
        },
        "id": "0tXodWEjut-7",
        "outputId": "34b6bc9d-2510-42b5-f631-af3cbc9f9832"
      },
      "execution_count": 57,
      "outputs": [
        {
          "output_type": "stream",
          "name": "stdout",
          "text": [
            " 5,462.93\n"
          ]
        }
      ]
    },
    {
      "cell_type": "code",
      "source": [
        "#섭씨온도를 화씨온도로 변환하기\n",
        "c=float(input('섭씨온도:'))\n",
        "print(f'섭씨온도 {c}는 화씨온도 {(9 / 5) * c + 32 }')\n"
      ],
      "metadata": {
        "colab": {
          "base_uri": "https://localhost:8080/"
        },
        "id": "g29it38DxwAz",
        "outputId": "1b65ba85-c850-4dc4-b0e2-ab6f4abc4a86"
      },
      "execution_count": 60,
      "outputs": [
        {
          "output_type": "stream",
          "name": "stdout",
          "text": [
            "섭씨온도:7.5\n",
            "섭씨온도 7.5는 화씨온도 45.5\n"
          ]
        }
      ]
    },
    {
      "cell_type": "code",
      "source": [
        "# 산술 연산자\n",
        "print(33//5)\n",
        "print(33%5)"
      ],
      "metadata": {
        "id": "O4BMO7g4z0EL"
      },
      "execution_count": null,
      "outputs": []
    },
    {
      "cell_type": "code",
      "source": [
        "#대입 연산자\n",
        "a=2\n",
        "a = a + 1\n",
        "a += 1\n",
        "print(f'{a}')\n"
      ],
      "metadata": {
        "colab": {
          "base_uri": "https://localhost:8080/"
        },
        "id": "W_fBktYJ0ISz",
        "outputId": "d3184b4f-a11c-482a-88d6-1bf301cb4c66"
      },
      "execution_count": 64,
      "outputs": [
        {
          "output_type": "stream",
          "name": "stdout",
          "text": [
            "4\n"
          ]
        }
      ]
    },
    {
      "cell_type": "code",
      "source": [
        "#관계 연산자\n",
        "a=100\n",
        "print(a>200)\n",
        "print(a==100)\n",
        "print(a!=100)\n"
      ],
      "metadata": {
        "colab": {
          "base_uri": "https://localhost:8080/"
        },
        "id": "kD4ooWUO0s27",
        "outputId": "368a0bcf-ced0-4ff8-d208-f10b0e97bff9"
      },
      "execution_count": 66,
      "outputs": [
        {
          "output_type": "stream",
          "name": "stdout",
          "text": [
            "False\n",
            "True\n",
            "False\n"
          ]
        }
      ]
    },
    {
      "cell_type": "code",
      "source": [
        "#논리 연산자\n",
        "a=100\n",
        "print(a>100 and a==100)\n",
        "print(a>100 or a==100)\n",
        "print(not(a>100))"
      ],
      "metadata": {
        "colab": {
          "base_uri": "https://localhost:8080/"
        },
        "id": "kInNtI4808pj",
        "outputId": "52c10cb0-295e-4a9f-adca-559ff27f8f7c"
      },
      "execution_count": 67,
      "outputs": [
        {
          "output_type": "stream",
          "name": "stdout",
          "text": [
            "False\n",
            "True\n",
            "True\n"
          ]
        }
      ]
    },
    {
      "cell_type": "code",
      "source": [
        "#멤버쉽 연산자\n",
        "fr = ['사과', '포도', '딸기', '오렌지']\n",
        "print('딸기' in fr)\n",
        "print('키위' not in fr)\n",
        "\n",
        "if '딸기' in fr:\n",
        "  print('딸기는 fr 안에 있습니다.' )\n",
        "else:\n",
        "  print('딸기는 fr 안에 없습니다.' )\n"
      ],
      "metadata": {
        "colab": {
          "base_uri": "https://localhost:8080/"
        },
        "id": "CLVzIEnv1XMz",
        "outputId": "b09dc7de-972d-4025-d7e6-3866d7ca2120"
      },
      "execution_count": 97,
      "outputs": [
        {
          "output_type": "stream",
          "name": "stdout",
          "text": [
            "True\n",
            "True\n",
            "딸기는 fr 안에 있습니다.\n"
          ]
        }
      ]
    },
    {
      "cell_type": "code",
      "source": [
        "for frs in fr:\n",
        "  print(f'내가 좋아하는 과일 \"{frs}\" 확인해줘')\n",
        "\n",
        "# fr = [\"사과\", \"바나나\", \"딸기\"]\n",
        "\n",
        "# for frs in fr:\n",
        "#     print(f'내가 좋아하는 과일 \"{frs}\" 확인해줘')\n"
      ],
      "metadata": {
        "colab": {
          "base_uri": "https://localhost:8080/"
        },
        "id": "8oHAcJ4z2Nn0",
        "outputId": "a0f042eb-a45c-4731-d3be-2e7f701d1852"
      },
      "execution_count": 95,
      "outputs": [
        {
          "output_type": "stream",
          "name": "stdout",
          "text": [
            "내가 좋아하는 과일 \"사과\" 확인해줘\n",
            "내가 좋아하는 과일 \"바나나\" 확인해줘\n",
            "내가 좋아하는 과일 \"딸기\" 확인해줘\n"
          ]
        }
      ]
    },
    {
      "cell_type": "code",
      "source": [
        "a=4321\n",
        "\n",
        "a500 = a//500\n",
        "a500_ = a%500\n",
        "print(f'500원짜리 :{a500}')\n",
        "a100 = a500_//100\n",
        "a100_ = a500_%100\n",
        "print(f'100원짜리 :{a100}')\n",
        "\n",
        "a50 = a100_//50\n",
        "a50_ = a100_%50\n",
        "print(f'50원짜리 :{a50}')\n",
        "\n",
        "a10 = a50_//10\n",
        "a10_ = a50_%10\n",
        "print(f'10원짜리 :{a10}')\n",
        "print(f'1원짜리 :{a10_}')"
      ],
      "metadata": {
        "colab": {
          "base_uri": "https://localhost:8080/"
        },
        "id": "en8ics173taR",
        "outputId": "3d6c4fe7-a0b8-4857-da1a-6300c0ae9ee2"
      },
      "execution_count": 86,
      "outputs": [
        {
          "output_type": "stream",
          "name": "stdout",
          "text": [
            "500원짜리 :8\n",
            "100원짜리 :3\n",
            "50원짜리 :0\n",
            "10원짜리 :2\n",
            "1원짜리 :1\n"
          ]
        }
      ]
    }
  ]
}