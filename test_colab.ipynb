{
  "nbformat": 4,
  "nbformat_minor": 0,
  "metadata": {
    "colab": {
      "provenance": [],
      "authorship_tag": "ABX9TyOle7iv3OUPczuIijZUh4xX",
      "include_colab_link": true
    },
    "kernelspec": {
      "name": "python3",
      "display_name": "Python 3"
    },
    "language_info": {
      "name": "python"
    }
  },
  "cells": [
    {
      "cell_type": "markdown",
      "metadata": {
        "id": "view-in-github",
        "colab_type": "text"
      },
      "source": [
        "<a href=\"https://colab.research.google.com/github/choyoujung/data-analysis/blob/main/test_colab.ipynb\" target=\"_parent\"><img src=\"https://colab.research.google.com/assets/colab-badge.svg\" alt=\"Open In Colab\"/></a>"
      ]
    },
    {
      "cell_type": "code",
      "execution_count": null,
      "metadata": {
        "id": "3I1ro5pRDlSZ"
      },
      "outputs": [],
      "source": []
    },
    {
      "cell_type": "markdown",
      "source": [
        "# 제목\n",
        "## 제목\n",
        "### **제목**"
      ],
      "metadata": {
        "id": "m3o7I8dzD7_j"
      }
    },
    {
      "cell_type": "markdown",
      "source": [
        "1.제목"
      ],
      "metadata": {
        "id": "21PIyHWaEmnu"
      }
    },
    {
      "cell_type": "code",
      "source": [
        "print('코렙에서 실행하는 코드')"
      ],
      "metadata": {
        "id": "j9KPvSa7E104"
      },
      "execution_count": null,
      "outputs": []
    },
    {
      "cell_type": "code",
      "source": [
        "a=10\n",
        "b=20\n",
        "print(a+b)\n",
        "print(a-b)\n",
        "print(a*b)\n",
        "print(a/b)\n",
        "print(a%b)\n",
        "\n"
      ],
      "metadata": {
        "id": "B9ijjwiPFAA1"
      },
      "execution_count": null,
      "outputs": []
    },
    {
      "cell_type": "markdown",
      "source": [
        "## 2.제목"
      ],
      "metadata": {
        "id": "OemshDN3Ecxs"
      }
    },
    {
      "cell_type": "markdown",
      "source": [
        "파이썬 패키지 확인"
      ],
      "metadata": {
        "id": "DQ_Yok2iFhJ1"
      }
    },
    {
      "cell_type": "code",
      "source": [
        "!pip list"
      ],
      "metadata": {
        "id": "REvIBmtHFkOP"
      },
      "execution_count": null,
      "outputs": []
    },
    {
      "cell_type": "code",
      "source": [],
      "metadata": {
        "id": "KFaatB6uFoQW"
      },
      "execution_count": null,
      "outputs": []
    }
  ]
}