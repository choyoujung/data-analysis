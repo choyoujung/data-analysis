{
  "nbformat": 4,
  "nbformat_minor": 0,
  "metadata": {
    "colab": {
      "provenance": [],
      "authorship_tag": "ABX9TyMRkFlXDlvQewfYwmVvoIm1",
      "include_colab_link": true
    },
    "kernelspec": {
      "name": "python3",
      "display_name": "Python 3"
    },
    "language_info": {
      "name": "python"
    }
  },
  "cells": [
    {
      "cell_type": "markdown",
      "metadata": {
        "id": "view-in-github",
        "colab_type": "text"
      },
      "source": [
        "<a href=\"https://colab.research.google.com/github/choyoujung/data-analysis/blob/main/%EB%AF%B8%EB%8B%88%ED%94%84%EB%A1%9C%EC%A0%9D%ED%8A%B8_%EC%A1%B0%EC%9C%A0%EC%A0%95.ipynb\" target=\"_parent\"><img src=\"https://colab.research.google.com/assets/colab-badge.svg\" alt=\"Open In Colab\"/></a>"
      ]
    },
    {
      "cell_type": "code",
      "execution_count": null,
      "metadata": {
        "colab": {
          "base_uri": "https://localhost:8080/"
        },
        "id": "BonUnMWw2yKE",
        "outputId": "52639c14-94af-4a21-e717-500bf97ac14a"
      },
      "outputs": [
        {
          "output_type": "stream",
          "name": "stdout",
          "text": [
            "\n",
            "---선택메뉴---\n",
            "1. 단어 추가\n",
            "2. 단어 검색\n",
            "3. 전체 단어 출력\n",
            "4. 단어 삭제\n",
            "0. 종료\n",
            "메뉴를 선택하세요: 1\n",
            "추가할 영어 단어를 입력하세요: car\n",
            "단어의 뜻을 입력하세요: 저동처\n",
            "단어가 성공적으로 추가되었습니다.\n",
            "\n",
            "---선택메뉴---\n",
            "1. 단어 추가\n",
            "2. 단어 검색\n",
            "3. 전체 단어 출력\n",
            "4. 단어 삭제\n",
            "0. 종료\n",
            "메뉴를 선택하세요: 2\n",
            "검색할 영어 단어를 입력하세요: car\n",
            "car: 저동처\n",
            "\n",
            "---선택메뉴---\n",
            "1. 단어 추가\n",
            "2. 단어 검색\n",
            "3. 전체 단어 출력\n",
            "4. 단어 삭제\n",
            "0. 종료\n"
          ]
        }
      ],
      "source": [
        "# 영어 단어장을 담을 딕셔너리\n",
        "word_dict = {}\n",
        "\n",
        "# 단어 추가 함수\n",
        "def add_word():\n",
        "    word = input(\"추가할 영어 단어를 입력하세요: \")\n",
        "    meaning = input(\"단어의 뜻을 입력하세요: \")\n",
        "    word_dict[word] = meaning\n",
        "    print(\"단어가 성공적으로 추가되었습니다.\")\n",
        "\n",
        "# 단어 검색 함수\n",
        "def search_word():\n",
        "    word = input(\"검색할 영어 단어를 입력하세요: \")\n",
        "    if word in word_dict.keys():\n",
        "        print(f\"{word}: {word_dict[word]}\")\n",
        "    else:\n",
        "        print(\"단어를 찾을 수 없습니다.\")\n",
        "\n",
        "# 단어 삭제 함수\n",
        "def delete_word():\n",
        "    word = input(\"삭제할 영어 단어를 입력하세요: \")\n",
        "    if word in word_dict:\n",
        "        del word_dict[word]\n",
        "        print(\"단어가 성공적으로 삭제되었습니다.\")\n",
        "    else:\n",
        "        print(\"미등록 단어입니다.\")\n",
        "\n",
        "# 모든 단어 출력 함수\n",
        "def display_all_words():\n",
        "    if word_dict:\n",
        "        print(\"전체 단어 목록:\")\n",
        "        for word, meaning in word_dict.items():\n",
        "            print(f\"{word}: {meaning}\")\n",
        "    else:\n",
        "        print(\"저장된 단어가 없습니다.\")\n",
        "\n",
        "# 프로그램 시작\n",
        "while True:\n",
        "    print(\"\\n---선택메뉴---\")\n",
        "    print(\"1. 단어 추가\")\n",
        "    print(\"2. 단어 검색\")\n",
        "    print(\"3. 전체 단어 출력\")\n",
        "    print(\"4. 단어 삭제\")\n",
        "    print(\"0. 종료\")\n",
        "\n",
        "    choice = input(\"메뉴를 선택하세요: \")\n",
        "\n",
        "    if choice == '1':\n",
        "        add_word()\n",
        "    elif choice == '2':\n",
        "        search_word()\n",
        "    elif choice == '3':\n",
        "        display_all_words()\n",
        "    elif choice == '4':\n",
        "        delete_word()\n",
        "    elif choice == '0':\n",
        "        print(\"프로그램을 종료합니다.\")\n",
        "        break\n",
        "    else:\n",
        "        print(\"잘못된 입력입니다. 다시 시도하세요.\")"
      ]
    }
  ]
}