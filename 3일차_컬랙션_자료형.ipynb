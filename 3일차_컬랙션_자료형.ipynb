{
  "nbformat": 4,
  "nbformat_minor": 0,
  "metadata": {
    "colab": {
      "provenance": [],
      "authorship_tag": "ABX9TyPM8HqQ2ZplgfC+kCstYtpD",
      "include_colab_link": true
    },
    "kernelspec": {
      "name": "python3",
      "display_name": "Python 3"
    },
    "language_info": {
      "name": "python"
    }
  },
  "cells": [
    {
      "cell_type": "markdown",
      "metadata": {
        "id": "view-in-github",
        "colab_type": "text"
      },
      "source": [
        "<a href=\"https://colab.research.google.com/github/choyoujung/data-analysis/blob/main/3%EC%9D%BC%EC%B0%A8_%EC%BB%AC%EB%9E%99%EC%85%98_%EC%9E%90%EB%A3%8C%ED%98%95.ipynb\" target=\"_parent\"><img src=\"https://colab.research.google.com/assets/colab-badge.svg\" alt=\"Open In Colab\"/></a>"
      ]
    },
    {
      "cell_type": "markdown",
      "source": [
        "**3.컬랙션 자료형**"
      ],
      "metadata": {
        "id": "XTMcxlZpTrLA"
      }
    },
    {
      "cell_type": "code",
      "execution_count": 3,
      "metadata": {
        "colab": {
          "base_uri": "https://localhost:8080/"
        },
        "id": "k78yKtPnTVUG",
        "outputId": "f5533e35-ff66-414f-b44c-420f3c98bf49"
      },
      "outputs": [
        {
          "output_type": "stream",
          "name": "stdout",
          "text": [
            "<class 'list'>\n",
            "[]\n"
          ]
        }
      ],
      "source": [
        "#3-11.리스트 생성\n",
        "#빈 리스트 생성\n",
        "a=[]\n",
        "a=list()\n",
        "print(type(a))\n",
        "print(a)\n"
      ]
    },
    {
      "cell_type": "code",
      "source": [
        "#최기 데이타 넣고 리스트 생성\n",
        "import math\n",
        "a=[1,2,3,4,5]\n",
        "a=[1, 'apple', '딸기', 3.14, math.pi, max([10, 11, 5, 56])]\n",
        "b =[1, 2, a ,['사과', '딸기'], {'k':'kiwi'}]\n",
        "print(b)"
      ],
      "metadata": {
        "colab": {
          "base_uri": "https://localhost:8080/"
        },
        "id": "uhkX6lnxUStf",
        "outputId": "e0ae7718-4996-4a7b-e4cf-5656bb4a4e66"
      },
      "execution_count": 5,
      "outputs": [
        {
          "output_type": "stream",
          "name": "stdout",
          "text": [
            "[1, 2, [1, 'apple', '딸기', 3.14, 3.141592653589793, 56], ['사과', '딸기'], {'k': 'kiwi'}]\n"
          ]
        }
      ]
    },
    {
      "cell_type": "code",
      "source": [
        "numlist = []\n",
        "for num in range(1,21,2):\n",
        "  numlist.append(num)\n",
        "print(numlist)"
      ],
      "metadata": {
        "colab": {
          "base_uri": "https://localhost:8080/"
        },
        "id": "6jymVj4aVRaB",
        "outputId": "d3c15d6b-8ded-43b6-db6f-cd9cfdd3cd97"
      },
      "execution_count": 8,
      "outputs": [
        {
          "output_type": "stream",
          "name": "stdout",
          "text": [
            "[1, 3, 5, 7, 9, 11, 13, 15, 17, 19]\n"
          ]
        }
      ]
    },
    {
      "cell_type": "code",
      "source": [
        "print(b)\n",
        "for i in b:\n",
        "  print(i)\n"
      ],
      "metadata": {
        "colab": {
          "base_uri": "https://localhost:8080/"
        },
        "id": "eQlnpvw0VwZf",
        "outputId": "00177f97-870e-4d2a-9223-090000f32dc0"
      },
      "execution_count": 9,
      "outputs": [
        {
          "output_type": "stream",
          "name": "stdout",
          "text": [
            "[1, 2, [1, 'apple', '딸기', 3.14, 3.141592653589793, 56], ['사과', '딸기'], {'k': 'kiwi'}]\n",
            "1\n",
            "2\n",
            "[1, 'apple', '딸기', 3.14, 3.141592653589793, 56]\n",
            "['사과', '딸기']\n",
            "{'k': 'kiwi'}\n"
          ]
        }
      ]
    },
    {
      "cell_type": "code",
      "source": [
        "#리스트 요소 접근\n",
        "\n",
        "colors = ['빨강', '초록', '파랑', '노랑', '검정']\n",
        "print(colors[0])\n",
        "print(colors[2:4])\n",
        "print(colors[::-1])\n",
        "\n",
        "for color in colors:\n",
        "  print(f'나는 \"{color}\"색상을 좋아 합니다.')"
      ],
      "metadata": {
        "colab": {
          "base_uri": "https://localhost:8080/"
        },
        "id": "vOailTutXZHY",
        "outputId": "d9753b2e-d491-4e98-8843-e7af8af81c44"
      },
      "execution_count": 28,
      "outputs": [
        {
          "output_type": "stream",
          "name": "stdout",
          "text": [
            "빨강\n",
            "['파랑', '노랑']\n",
            "['검정', '노랑', '파랑', '초록', '빨강']\n",
            "나는 \"빨강\"색상을 좋아 합니다.\n",
            "나는 \"초록\"색상을 좋아 합니다.\n",
            "나는 \"파랑\"색상을 좋아 합니다.\n",
            "나는 \"노랑\"색상을 좋아 합니다.\n",
            "나는 \"검정\"색상을 좋아 합니다.\n"
          ]
        }
      ]
    },
    {
      "cell_type": "code",
      "source": [
        "#리스트에 요소 추가\n",
        "\n",
        "print(colors)\n",
        "colors.insert(2,'분홍')\n",
        "print(colors)\n",
        "\n",
        "#맨 뒤에 넣기\n",
        "colors.append('보라')\n",
        "print(colors)"
      ],
      "metadata": {
        "colab": {
          "base_uri": "https://localhost:8080/"
        },
        "id": "5Q4HzO7NYqIQ",
        "outputId": "bde2e2ef-edc4-4b33-f379-3edcf8482416"
      },
      "execution_count": 29,
      "outputs": [
        {
          "output_type": "stream",
          "name": "stdout",
          "text": [
            "['빨강', '초록', '파랑', '노랑', '검정']\n",
            "['빨강', '초록', '분홍', '파랑', '노랑', '검정']\n",
            "['빨강', '초록', '분홍', '파랑', '노랑', '검정', '보라']\n"
          ]
        }
      ]
    },
    {
      "cell_type": "code",
      "source": [
        "##리스트 특정위치에 요소값 변경하기\n",
        "print(colors)\n",
        "colors[3] = '주황'\n",
        "print(colors)\n",
        "colors[1:3] = ['갈색','주황']\n",
        "print(colors)"
      ],
      "metadata": {
        "colab": {
          "base_uri": "https://localhost:8080/"
        },
        "id": "cyDWzRquZf9R",
        "outputId": "d6570dd9-7571-4139-ac0d-23a2331edd20"
      },
      "execution_count": 30,
      "outputs": [
        {
          "output_type": "stream",
          "name": "stdout",
          "text": [
            "['빨강', '초록', '분홍', '파랑', '노랑', '검정', '보라']\n",
            "['빨강', '초록', '분홍', '주황', '노랑', '검정', '보라']\n",
            "['빨강', '갈색', '주황', '주황', '노랑', '검정', '보라']\n"
          ]
        }
      ]
    },
    {
      "cell_type": "code",
      "source": [
        "#맨뒤에 있는거 꺼내기\n",
        "colors.pop()\n",
        "print(colors)\n",
        "\n",
        "#요소값과 일치하는거 삭제\n",
        "\n",
        "colors.remove('주황')"
      ],
      "metadata": {
        "colab": {
          "base_uri": "https://localhost:8080/",
          "height": 221
        },
        "id": "hrOhwEXCbhDg",
        "outputId": "67cca14a-cd9b-4082-ef4a-f8af09351f00"
      },
      "execution_count": 37,
      "outputs": [
        {
          "output_type": "error",
          "ename": "IndexError",
          "evalue": "pop from empty list",
          "traceback": [
            "\u001b[0;31m---------------------------------------------------------------------------\u001b[0m",
            "\u001b[0;31mIndexError\u001b[0m                                Traceback (most recent call last)",
            "\u001b[0;32m<ipython-input-37-cd3f71194f47>\u001b[0m in \u001b[0;36m<cell line: 2>\u001b[0;34m()\u001b[0m\n\u001b[1;32m      1\u001b[0m \u001b[0;31m#맨뒤에 있는거 꺼내기\u001b[0m\u001b[0;34m\u001b[0m\u001b[0;34m\u001b[0m\u001b[0m\n\u001b[0;32m----> 2\u001b[0;31m \u001b[0mcolors\u001b[0m\u001b[0;34m.\u001b[0m\u001b[0mpop\u001b[0m\u001b[0;34m(\u001b[0m\u001b[0;34m)\u001b[0m\u001b[0;34m\u001b[0m\u001b[0;34m\u001b[0m\u001b[0m\n\u001b[0m\u001b[1;32m      3\u001b[0m \u001b[0mprint\u001b[0m\u001b[0;34m(\u001b[0m\u001b[0mcolors\u001b[0m\u001b[0;34m)\u001b[0m\u001b[0;34m\u001b[0m\u001b[0;34m\u001b[0m\u001b[0m\n\u001b[1;32m      4\u001b[0m \u001b[0;34m\u001b[0m\u001b[0m\n\u001b[1;32m      5\u001b[0m \u001b[0;31m#요소값과 일치하는거 삭제\u001b[0m\u001b[0;34m\u001b[0m\u001b[0;34m\u001b[0m\u001b[0m\n",
            "\u001b[0;31mIndexError\u001b[0m: pop from empty list"
          ]
        }
      ]
    },
    {
      "cell_type": "code",
      "source": [
        "# 전채내용 삭제\n",
        "colors.clear()\n"
      ],
      "metadata": {
        "id": "Ny4wAhvncQSP"
      },
      "execution_count": 36,
      "outputs": []
    },
    {
      "cell_type": "code",
      "source": [
        "#리스트 삭제\n",
        "del(colors)"
      ],
      "metadata": {
        "id": "ZYj-2jSZcdVe"
      },
      "execution_count": null,
      "outputs": []
    },
    {
      "cell_type": "code",
      "source": [
        "#2차원/3차원 리스트 요소\n",
        "\n",
        "animals=['사자', '호랑이', '곰',\n",
        "        ['고양이', '강아지',['돌고래', '범고래'], '햄스터']]\n",
        "print(animals)\n",
        "print(animals[1])\n",
        "print(animals[3])\n",
        "print(animals[3][1])\n",
        "print(animals[3][2][1])\n"
      ],
      "metadata": {
        "colab": {
          "base_uri": "https://localhost:8080/"
        },
        "id": "k03-v8MCc_CE",
        "outputId": "1b33e98a-2aad-4491-c880-2aa5cf212a7f"
      },
      "execution_count": 43,
      "outputs": [
        {
          "output_type": "stream",
          "name": "stdout",
          "text": [
            "['사자', '호랑이', '곰', ['고양이', '강아지', ['돌고래', '범고래'], '햄스터']]\n",
            "호랑이\n",
            "['고양이', '강아지', ['돌고래', '범고래'], '햄스터']\n",
            "강아지\n",
            "범고래\n",
            "4\n"
          ]
        }
      ]
    },
    {
      "cell_type": "code",
      "source": [
        "#요소의 길이\n",
        "print(animals)\n",
        "print(len(animals))\n",
        "print(len(animals[3]))\n",
        "print(len(animals[3][2]))"
      ],
      "metadata": {
        "colab": {
          "base_uri": "https://localhost:8080/"
        },
        "id": "OnOYUyoyfbcn",
        "outputId": "3a60e7c3-814f-413f-8881-59158d6ada90"
      },
      "execution_count": 45,
      "outputs": [
        {
          "output_type": "stream",
          "name": "stdout",
          "text": [
            "['사자', '호랑이', '곰', ['고양이', '강아지', ['돌고래', '범고래'], '햄스터']]\n",
            "4\n",
            "4\n",
            "2\n"
          ]
        }
      ]
    },
    {
      "cell_type": "code",
      "source": [
        "#리스트 함수\n",
        "colors = ['빨강', '초록', '파랑', '노랑', '검정','노랑']\n",
        "#정열\n",
        "\n",
        "\n",
        "\n",
        "print(colors)\n",
        "colors.sort()\n",
        "print(colors)\n",
        "colors.reverse()   #역순\n",
        "print(colors)\n",
        "#요소 찾기\n",
        "print(colors.index('빨강'))\n",
        "print(colors.index('노랑'))\n",
        "\n",
        "#요소값의 갯수 세기\n",
        "print(colors.count('노랑'))\n",
        "#새로운 이름으로 정렬\n",
        "new = sorted(colors)\n",
        "print(new)"
      ],
      "metadata": {
        "colab": {
          "base_uri": "https://localhost:8080/"
        },
        "id": "RRs9-TCigGQV",
        "outputId": "74945bf4-c618-498f-88df-de372dfb9d2e"
      },
      "execution_count": 52,
      "outputs": [
        {
          "output_type": "stream",
          "name": "stdout",
          "text": [
            "['빨강', '초록', '파랑', '노랑', '검정', '노랑']\n",
            "['검정', '노랑', '노랑', '빨강', '초록', '파랑']\n",
            "['파랑', '초록', '빨강', '노랑', '노랑', '검정']\n",
            "2\n",
            "3\n",
            "2\n",
            "['검정', '노랑', '노랑', '빨강', '초록', '파랑']\n"
          ]
        }
      ]
    },
    {
      "cell_type": "code",
      "source": [
        "#리스트 리스트 붙이기\n",
        "colors = ['빨강', '초록', '파랑', '노랑', '검정','노랑']\n",
        "newColors = ['red', 'green', 'blue']\n",
        "print(colors)\n",
        "print(newColors)\n",
        "colors.extend(newColors)\n",
        "print(colors)\n",
        "\n",
        "colors = ['빨강', '초록', '파랑', '노랑', '검정','노랑']\n",
        "newColors = ['red', 'green', 'blue']\n",
        "print(colors+newColors)"
      ],
      "metadata": {
        "colab": {
          "base_uri": "https://localhost:8080/"
        },
        "id": "hYLS828ViCap",
        "outputId": "92bb0f81-dfb7-4168-dd25-0b2801cfd020"
      },
      "execution_count": 55,
      "outputs": [
        {
          "output_type": "stream",
          "name": "stdout",
          "text": [
            "['빨강', '초록', '파랑', '노랑', '검정', '노랑']\n",
            "['red', 'green', 'blue']\n",
            "['빨강', '초록', '파랑', '노랑', '검정', '노랑', 'red', 'green', 'blue']\n",
            "['빨강', '초록', '파랑', '노랑', '검정', '노랑', 'red', 'green', 'blue']\n"
          ]
        }
      ]
    }
  ]
}