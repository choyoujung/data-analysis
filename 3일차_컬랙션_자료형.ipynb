{
  "nbformat": 4,
  "nbformat_minor": 0,
  "metadata": {
    "colab": {
      "provenance": [],
      "authorship_tag": "ABX9TyNbKeVgc3CgPM57rPLI/TKn",
      "include_colab_link": true
    },
    "kernelspec": {
      "name": "python3",
      "display_name": "Python 3"
    },
    "language_info": {
      "name": "python"
    }
  },
  "cells": [
    {
      "cell_type": "markdown",
      "metadata": {
        "id": "view-in-github",
        "colab_type": "text"
      },
      "source": [
        "<a href=\"https://colab.research.google.com/github/choyoujung/data-analysis/blob/main/3%EC%9D%BC%EC%B0%A8_%EC%BB%AC%EB%9E%99%EC%85%98_%EC%9E%90%EB%A3%8C%ED%98%95.ipynb\" target=\"_parent\"><img src=\"https://colab.research.google.com/assets/colab-badge.svg\" alt=\"Open In Colab\"/></a>"
      ]
    },
    {
      "cell_type": "markdown",
      "source": [
        "**3.컬랙션 자료형**"
      ],
      "metadata": {
        "id": "XTMcxlZpTrLA"
      }
    },
    {
      "cell_type": "code",
      "execution_count": 3,
      "metadata": {
        "colab": {
          "base_uri": "https://localhost:8080/"
        },
        "id": "k78yKtPnTVUG",
        "outputId": "f5533e35-ff66-414f-b44c-420f3c98bf49"
      },
      "outputs": [
        {
          "output_type": "stream",
          "name": "stdout",
          "text": [
            "<class 'list'>\n",
            "[]\n"
          ]
        }
      ],
      "source": [
        "#3-11.리스트 생성\n",
        "#빈 리스트 생성\n",
        "a=[]\n",
        "a=list()\n",
        "print(type(a))\n",
        "print(a)\n"
      ]
    },
    {
      "cell_type": "code",
      "source": [
        "#최기 데이타 넣고 리스트 생성\n",
        "import math\n",
        "a=[1,2,3,4,5]\n",
        "a=[1, 'apple', '딸기', 3.14, math.pi, max([10, 11, 5, 56])]\n",
        "b =[1, 2, a ,['사과', '딸기'], {'k':'kiwi'}]\n",
        "print(b)"
      ],
      "metadata": {
        "colab": {
          "base_uri": "https://localhost:8080/"
        },
        "id": "uhkX6lnxUStf",
        "outputId": "e0ae7718-4996-4a7b-e4cf-5656bb4a4e66"
      },
      "execution_count": 5,
      "outputs": [
        {
          "output_type": "stream",
          "name": "stdout",
          "text": [
            "[1, 2, [1, 'apple', '딸기', 3.14, 3.141592653589793, 56], ['사과', '딸기'], {'k': 'kiwi'}]\n"
          ]
        }
      ]
    },
    {
      "cell_type": "code",
      "source": [
        "numlist = []\n",
        "for num in range(1,21,2):\n",
        "  numlist.append(num)\n",
        "print(numlist)"
      ],
      "metadata": {
        "colab": {
          "base_uri": "https://localhost:8080/"
        },
        "id": "6jymVj4aVRaB",
        "outputId": "d3c15d6b-8ded-43b6-db6f-cd9cfdd3cd97"
      },
      "execution_count": 8,
      "outputs": [
        {
          "output_type": "stream",
          "name": "stdout",
          "text": [
            "[1, 3, 5, 7, 9, 11, 13, 15, 17, 19]\n"
          ]
        }
      ]
    },
    {
      "cell_type": "code",
      "source": [
        "print(b)\n",
        "for i in b:\n",
        "  print(i)\n"
      ],
      "metadata": {
        "colab": {
          "base_uri": "https://localhost:8080/"
        },
        "id": "eQlnpvw0VwZf",
        "outputId": "00177f97-870e-4d2a-9223-090000f32dc0"
      },
      "execution_count": 9,
      "outputs": [
        {
          "output_type": "stream",
          "name": "stdout",
          "text": [
            "[1, 2, [1, 'apple', '딸기', 3.14, 3.141592653589793, 56], ['사과', '딸기'], {'k': 'kiwi'}]\n",
            "1\n",
            "2\n",
            "[1, 'apple', '딸기', 3.14, 3.141592653589793, 56]\n",
            "['사과', '딸기']\n",
            "{'k': 'kiwi'}\n"
          ]
        }
      ]
    },
    {
      "cell_type": "code",
      "source": [
        "#리스트 요소 접근\n",
        "\n",
        "colors = ['빨강', '초록', '파랑', '노랑', '검정']\n",
        "print(colors[0])\n",
        "print(colors[2:4])\n",
        "print(colors[::-1])\n",
        "\n",
        "for color in colors:\n",
        "  print(f'나는 \"{color}\"색상을 좋아 합니다.')"
      ],
      "metadata": {
        "colab": {
          "base_uri": "https://localhost:8080/"
        },
        "id": "vOailTutXZHY",
        "outputId": "d9753b2e-d491-4e98-8843-e7af8af81c44"
      },
      "execution_count": 28,
      "outputs": [
        {
          "output_type": "stream",
          "name": "stdout",
          "text": [
            "빨강\n",
            "['파랑', '노랑']\n",
            "['검정', '노랑', '파랑', '초록', '빨강']\n",
            "나는 \"빨강\"색상을 좋아 합니다.\n",
            "나는 \"초록\"색상을 좋아 합니다.\n",
            "나는 \"파랑\"색상을 좋아 합니다.\n",
            "나는 \"노랑\"색상을 좋아 합니다.\n",
            "나는 \"검정\"색상을 좋아 합니다.\n"
          ]
        }
      ]
    },
    {
      "cell_type": "code",
      "source": [
        "#리스트에 요소 추가\n",
        "\n",
        "print(colors)\n",
        "colors.insert(2,'분홍')\n",
        "print(colors)\n",
        "\n",
        "#맨 뒤에 넣기\n",
        "colors.append('보라')\n",
        "print(colors)"
      ],
      "metadata": {
        "colab": {
          "base_uri": "https://localhost:8080/"
        },
        "id": "5Q4HzO7NYqIQ",
        "outputId": "bde2e2ef-edc4-4b33-f379-3edcf8482416"
      },
      "execution_count": 29,
      "outputs": [
        {
          "output_type": "stream",
          "name": "stdout",
          "text": [
            "['빨강', '초록', '파랑', '노랑', '검정']\n",
            "['빨강', '초록', '분홍', '파랑', '노랑', '검정']\n",
            "['빨강', '초록', '분홍', '파랑', '노랑', '검정', '보라']\n"
          ]
        }
      ]
    },
    {
      "cell_type": "code",
      "source": [
        "##리스트 특정위치에 요소값 변경하기\n",
        "print(colors)\n",
        "colors[3] = '주황'\n",
        "print(colors)\n",
        "colors[1:3] = ['갈색','주황']\n",
        "print(colors)"
      ],
      "metadata": {
        "colab": {
          "base_uri": "https://localhost:8080/"
        },
        "id": "cyDWzRquZf9R",
        "outputId": "d6570dd9-7571-4139-ac0d-23a2331edd20"
      },
      "execution_count": 30,
      "outputs": [
        {
          "output_type": "stream",
          "name": "stdout",
          "text": [
            "['빨강', '초록', '분홍', '파랑', '노랑', '검정', '보라']\n",
            "['빨강', '초록', '분홍', '주황', '노랑', '검정', '보라']\n",
            "['빨강', '갈색', '주황', '주황', '노랑', '검정', '보라']\n"
          ]
        }
      ]
    },
    {
      "cell_type": "code",
      "source": [
        "#맨뒤에 있는거 꺼내기\n",
        "colors.pop()\n",
        "print(colors)\n",
        "\n",
        "#요소값과 일치하는거 삭제\n",
        "\n",
        "colors.remove('주황')"
      ],
      "metadata": {
        "colab": {
          "base_uri": "https://localhost:8080/",
          "height": 221
        },
        "id": "hrOhwEXCbhDg",
        "outputId": "67cca14a-cd9b-4082-ef4a-f8af09351f00"
      },
      "execution_count": 37,
      "outputs": [
        {
          "output_type": "error",
          "ename": "IndexError",
          "evalue": "pop from empty list",
          "traceback": [
            "\u001b[0;31m---------------------------------------------------------------------------\u001b[0m",
            "\u001b[0;31mIndexError\u001b[0m                                Traceback (most recent call last)",
            "\u001b[0;32m<ipython-input-37-cd3f71194f47>\u001b[0m in \u001b[0;36m<cell line: 2>\u001b[0;34m()\u001b[0m\n\u001b[1;32m      1\u001b[0m \u001b[0;31m#맨뒤에 있는거 꺼내기\u001b[0m\u001b[0;34m\u001b[0m\u001b[0;34m\u001b[0m\u001b[0m\n\u001b[0;32m----> 2\u001b[0;31m \u001b[0mcolors\u001b[0m\u001b[0;34m.\u001b[0m\u001b[0mpop\u001b[0m\u001b[0;34m(\u001b[0m\u001b[0;34m)\u001b[0m\u001b[0;34m\u001b[0m\u001b[0;34m\u001b[0m\u001b[0m\n\u001b[0m\u001b[1;32m      3\u001b[0m \u001b[0mprint\u001b[0m\u001b[0;34m(\u001b[0m\u001b[0mcolors\u001b[0m\u001b[0;34m)\u001b[0m\u001b[0;34m\u001b[0m\u001b[0;34m\u001b[0m\u001b[0m\n\u001b[1;32m      4\u001b[0m \u001b[0;34m\u001b[0m\u001b[0m\n\u001b[1;32m      5\u001b[0m \u001b[0;31m#요소값과 일치하는거 삭제\u001b[0m\u001b[0;34m\u001b[0m\u001b[0;34m\u001b[0m\u001b[0m\n",
            "\u001b[0;31mIndexError\u001b[0m: pop from empty list"
          ]
        }
      ]
    },
    {
      "cell_type": "code",
      "source": [
        "# 전채내용 삭제\n",
        "colors.clear()\n"
      ],
      "metadata": {
        "id": "Ny4wAhvncQSP"
      },
      "execution_count": 36,
      "outputs": []
    },
    {
      "cell_type": "code",
      "source": [
        "#리스트 삭제\n",
        "del(colors)"
      ],
      "metadata": {
        "id": "ZYj-2jSZcdVe"
      },
      "execution_count": null,
      "outputs": []
    },
    {
      "cell_type": "code",
      "source": [
        "#2차원/3차원 리스트 요소\n",
        "\n",
        "animals=['사자', '호랑이', '곰',\n",
        "        ['고양이', '강아지',['돌고래', '범고래'], '햄스터']]\n",
        "print(animals)\n",
        "print(animals[1])\n",
        "print(animals[3])\n",
        "print(animals[3][1])\n",
        "print(animals[3][2][1])\n"
      ],
      "metadata": {
        "colab": {
          "base_uri": "https://localhost:8080/"
        },
        "id": "k03-v8MCc_CE",
        "outputId": "1b33e98a-2aad-4491-c880-2aa5cf212a7f"
      },
      "execution_count": 43,
      "outputs": [
        {
          "output_type": "stream",
          "name": "stdout",
          "text": [
            "['사자', '호랑이', '곰', ['고양이', '강아지', ['돌고래', '범고래'], '햄스터']]\n",
            "호랑이\n",
            "['고양이', '강아지', ['돌고래', '범고래'], '햄스터']\n",
            "강아지\n",
            "범고래\n",
            "4\n"
          ]
        }
      ]
    },
    {
      "cell_type": "code",
      "source": [
        "#요소의 길이\n",
        "print(animals)\n",
        "print(len(animals))\n",
        "print(len(animals[3]))\n",
        "print(len(animals[3][2]))"
      ],
      "metadata": {
        "colab": {
          "base_uri": "https://localhost:8080/"
        },
        "id": "OnOYUyoyfbcn",
        "outputId": "3a60e7c3-814f-413f-8881-59158d6ada90"
      },
      "execution_count": 45,
      "outputs": [
        {
          "output_type": "stream",
          "name": "stdout",
          "text": [
            "['사자', '호랑이', '곰', ['고양이', '강아지', ['돌고래', '범고래'], '햄스터']]\n",
            "4\n",
            "4\n",
            "2\n"
          ]
        }
      ]
    },
    {
      "cell_type": "code",
      "source": [
        "#리스트 함수\n",
        "colors = ['빨강', '초록', '파랑', '노랑', '검정','노랑']\n",
        "#정열\n",
        "\n",
        "\n",
        "\n",
        "print(colors)\n",
        "colors.sort()\n",
        "print(colors)\n",
        "colors.reverse()   #역순\n",
        "print(colors)\n",
        "#요소 찾기\n",
        "print(colors.index('빨강'))\n",
        "print(colors.index('노랑'))\n",
        "\n",
        "#요소값의 갯수 세기\n",
        "print(colors.count('노랑'))\n",
        "#새로운 이름으로 정렬\n",
        "new = sorted(colors)\n",
        "print(new)"
      ],
      "metadata": {
        "colab": {
          "base_uri": "https://localhost:8080/"
        },
        "id": "RRs9-TCigGQV",
        "outputId": "74945bf4-c618-498f-88df-de372dfb9d2e"
      },
      "execution_count": 52,
      "outputs": [
        {
          "output_type": "stream",
          "name": "stdout",
          "text": [
            "['빨강', '초록', '파랑', '노랑', '검정', '노랑']\n",
            "['검정', '노랑', '노랑', '빨강', '초록', '파랑']\n",
            "['파랑', '초록', '빨강', '노랑', '노랑', '검정']\n",
            "2\n",
            "3\n",
            "2\n",
            "['검정', '노랑', '노랑', '빨강', '초록', '파랑']\n"
          ]
        }
      ]
    },
    {
      "cell_type": "code",
      "source": [
        "#리스트 리스트 붙이기\n",
        "colors = ['빨강', '초록', '파랑', '노랑', '검정','노랑']\n",
        "newColors = ['red', 'green', 'blue']\n",
        "print(colors)\n",
        "print(newColors)\n",
        "colors.extend(newColors)\n",
        "print(colors)\n",
        "\n",
        "colors = ['빨강', '초록', '파랑', '노랑', '검정','노랑']\n",
        "newColors = ['red', 'green', 'blue']\n",
        "print(colors+newColors)"
      ],
      "metadata": {
        "colab": {
          "base_uri": "https://localhost:8080/"
        },
        "id": "hYLS828ViCap",
        "outputId": "92bb0f81-dfb7-4168-dd25-0b2801cfd020"
      },
      "execution_count": 55,
      "outputs": [
        {
          "output_type": "stream",
          "name": "stdout",
          "text": [
            "['빨강', '초록', '파랑', '노랑', '검정', '노랑']\n",
            "['red', 'green', 'blue']\n",
            "['빨강', '초록', '파랑', '노랑', '검정', '노랑', 'red', 'green', 'blue']\n",
            "['빨강', '초록', '파랑', '노랑', '검정', '노랑', 'red', 'green', 'blue']\n"
          ]
        }
      ]
    },
    {
      "cell_type": "markdown",
      "source": [
        "\n",
        "**## 딕셔너리**"
      ],
      "metadata": {
        "id": "t8ytxIA_nhHE"
      }
    },
    {
      "cell_type": "code",
      "source": [
        "#딕셔너리 생성\n",
        "dic = dict()\n",
        "dic = {}\n",
        "print(type(dic))\n",
        "\n"
      ],
      "metadata": {
        "colab": {
          "base_uri": "https://localhost:8080/"
        },
        "id": "rpLQO016m_H-",
        "outputId": "9a6c74cb-5dd9-447a-d2eb-6aec0a6547a0"
      },
      "execution_count": 57,
      "outputs": [
        {
          "output_type": "stream",
          "name": "stdout",
          "text": [
            "<class 'dict'>\n"
          ]
        }
      ]
    },
    {
      "cell_type": "code",
      "source": [
        "members = {1:'이승철', 2:'박정현', 'BTS':['진', 'RM', '뷔', '지민']}\n",
        "print(members)\n",
        "print(members[2])\n",
        "print(members['BTS'])\n",
        "print(members['BTS'][1])\n",
        "print(len(members))"
      ],
      "metadata": {
        "colab": {
          "base_uri": "https://localhost:8080/"
        },
        "id": "mjuW1NxUtsQd",
        "outputId": "18ae96da-d4f5-4470-acb6-c5477207b047"
      },
      "execution_count": 61,
      "outputs": [
        {
          "output_type": "stream",
          "name": "stdout",
          "text": [
            "{1: '이승철', 2: '박정현', 'BTS': ['진', 'RM', '뷔', '지민']}\n",
            "박정현\n",
            "['진', 'RM', '뷔', '지민']\n",
            "RM\n",
            "3\n"
          ]
        }
      ]
    },
    {
      "cell_type": "code",
      "source": [
        "#키를 통해서 값에 접근법\n",
        "members = {1:'이승철', 2:'박정현', 'BTS':['진', 'RM', '뷔', '지민']}\n",
        "for member in members:\n",
        "  print(member, members[member])"
      ],
      "metadata": {
        "colab": {
          "base_uri": "https://localhost:8080/"
        },
        "id": "CsgF9ymRvLJU",
        "outputId": "a87e3191-32e1-4dc5-be1c-de5c10ac61c8"
      },
      "execution_count": 65,
      "outputs": [
        {
          "output_type": "stream",
          "name": "stdout",
          "text": [
            "1 이승철\n",
            "2 박정현\n",
            "BTS ['진', 'RM', '뷔', '지민']\n"
          ]
        }
      ]
    },
    {
      "cell_type": "code",
      "source": [
        "#딕셔너리 함수\n",
        "members = {1:'이승철', 2:'박정현', 'BTS':['진', 'RM', '뷔', '지민']}\n",
        "print(members.keys())\n",
        "print(members.values()) #리스트 형식\n",
        "print(members.items())"
      ],
      "metadata": {
        "colab": {
          "base_uri": "https://localhost:8080/"
        },
        "id": "up60P_3vu6ut",
        "outputId": "5144e324-49a4-4725-e6a2-85ea8faeea03"
      },
      "execution_count": 68,
      "outputs": [
        {
          "output_type": "stream",
          "name": "stdout",
          "text": [
            "dict_keys([1, 2, 'BTS'])\n",
            "dict_values(['이승철', '박정현', ['진', 'RM', '뷔', '지민']])\n",
            "dict_items([(1, '이승철'), (2, '박정현'), ('BTS', ['진', 'RM', '뷔', '지민'])])\n"
          ]
        }
      ]
    },
    {
      "cell_type": "code",
      "source": [
        "for key, value in members.items():\n",
        "  print(key, value)"
      ],
      "metadata": {
        "colab": {
          "base_uri": "https://localhost:8080/"
        },
        "id": "6hRwdIZGwtv2",
        "outputId": "f514e179-b19a-4dd2-bfa9-81f7e4ea1b19"
      },
      "execution_count": 70,
      "outputs": [
        {
          "output_type": "stream",
          "name": "stdout",
          "text": [
            "1 이승철\n",
            "2 박정현\n",
            "BTS ['진', 'RM', '뷔', '지민']\n"
          ]
        }
      ]
    },
    {
      "cell_type": "code",
      "source": [
        "### 딕셔너리 추가 , 수젇 , 삭제\n",
        "members = {1:'이승철', 2:'박정현', 'BTS':['진', 'RM', '뷔', '지민']}\n",
        "\n",
        "#요소 추가\n",
        "members[3] = 'NCT Dream'\n",
        "print(members)\n",
        "members['소속사'] = ['하이브', 'SM기획']\n",
        "print(members)\n",
        "\n",
        "#요소 수정\n",
        "members[1] = '시븐틴'\n",
        "print(members)\n",
        "\n",
        "#요소 삭제\n",
        "del(members['소속사'])\n",
        "print(members)\n",
        "\n",
        "#딕셔너리 삭제\n",
        "del(members)\n",
        "print(members)"
      ],
      "metadata": {
        "colab": {
          "base_uri": "https://localhost:8080/",
          "height": 257
        },
        "id": "_5YxLpGOx8L8",
        "outputId": "e51bd9bd-cdfa-45f6-bb96-419d28d134bd"
      },
      "execution_count": 76,
      "outputs": [
        {
          "output_type": "stream",
          "name": "stdout",
          "text": [
            "{1: '이승철', 2: '박정현', 'BTS': ['진', 'RM', '뷔', '지민'], 3: 'NCT Dream'}\n",
            "{1: '이승철', 2: '박정현', 'BTS': ['진', 'RM', '뷔', '지민'], 3: 'NCT Dream', '소속사': ['하이브', 'SM기획']}\n",
            "{1: '시븐틴', 2: '박정현', 'BTS': ['진', 'RM', '뷔', '지민'], 3: 'NCT Dream', '소속사': ['하이브', 'SM기획']}\n",
            "{1: '시븐틴', 2: '박정현', 'BTS': ['진', 'RM', '뷔', '지민'], 3: 'NCT Dream'}\n"
          ]
        },
        {
          "output_type": "error",
          "ename": "NameError",
          "evalue": "name 'members' is not defined",
          "traceback": [
            "\u001b[0;31m---------------------------------------------------------------------------\u001b[0m",
            "\u001b[0;31mNameError\u001b[0m                                 Traceback (most recent call last)",
            "\u001b[0;32m<ipython-input-76-0fab86e08502>\u001b[0m in \u001b[0;36m<cell line: 20>\u001b[0;34m()\u001b[0m\n\u001b[1;32m     18\u001b[0m \u001b[0;31m#딕셔너리 삭제\u001b[0m\u001b[0;34m\u001b[0m\u001b[0;34m\u001b[0m\u001b[0m\n\u001b[1;32m     19\u001b[0m \u001b[0;32mdel\u001b[0m\u001b[0;34m(\u001b[0m\u001b[0mmembers\u001b[0m\u001b[0;34m)\u001b[0m\u001b[0;34m\u001b[0m\u001b[0;34m\u001b[0m\u001b[0m\n\u001b[0;32m---> 20\u001b[0;31m \u001b[0mprint\u001b[0m\u001b[0;34m(\u001b[0m\u001b[0mmembers\u001b[0m\u001b[0;34m)\u001b[0m\u001b[0;34m\u001b[0m\u001b[0;34m\u001b[0m\u001b[0m\n\u001b[0m",
            "\u001b[0;31mNameError\u001b[0m: name 'members' is not defined"
          ]
        }
      ]
    },
    {
      "cell_type": "code",
      "source": [
        "#튜플 생성\n",
        "tup = tuple()\n",
        "tup = ()\n",
        "print(type(tup))\n",
        "\n",
        "a=[1, 2, 3, 4]\n",
        "print(a)\n",
        "print(tuple(a))   #리스트를 튜플로\n"
      ],
      "metadata": {
        "colab": {
          "base_uri": "https://localhost:8080/"
        },
        "id": "oF7zBULozanr",
        "outputId": "9bd3a00e-4070-4361-8e5e-2fed9ca36d87"
      },
      "execution_count": 78,
      "outputs": [
        {
          "output_type": "stream",
          "name": "stdout",
          "text": [
            "<class 'tuple'>\n",
            "[1, 2, 3, 4]\n",
            "(1, 2, 3, 4)\n"
          ]
        }
      ]
    },
    {
      "cell_type": "code",
      "source": [
        "tup = ('사과')\n",
        "print(type(tup))\n",
        "\n",
        "tup = ('사과',)  #튜플로 인식시 ,\n",
        "print(type(tup))\n",
        "\n"
      ],
      "metadata": {
        "colab": {
          "base_uri": "https://localhost:8080/"
        },
        "id": "2FvK4unL0g9S",
        "outputId": "fc3488c6-046c-431e-ebda-96e1bc719c19"
      },
      "execution_count": 79,
      "outputs": [
        {
          "output_type": "stream",
          "name": "stdout",
          "text": [
            "<class 'str'>\n",
            "<class 'tuple'>\n"
          ]
        }
      ]
    },
    {
      "cell_type": "code",
      "source": [
        "help(tuple)"
      ],
      "metadata": {
        "id": "yIjWQcVH1Da8"
      },
      "execution_count": null,
      "outputs": []
    },
    {
      "cell_type": "code",
      "source": [
        "# 튜플은 변수를 정의 할ㄸ 함수의 파라메터 정의 해 사용\n",
        "\n",
        "a, b=100, 200  #튜플\n",
        "a, b=100, [1,2,3]\n",
        "print(a)\n",
        "print(b)"
      ],
      "metadata": {
        "colab": {
          "base_uri": "https://localhost:8080/"
        },
        "id": "VlXyqsYG2KPU",
        "outputId": "6ae773e3-3aac-4937-816f-dc11930d4a41"
      },
      "execution_count": 80,
      "outputs": [
        {
          "output_type": "stream",
          "name": "stdout",
          "text": [
            "100\n",
            "[1, 2, 3]\n"
          ]
        }
      ]
    },
    {
      "cell_type": "code",
      "source": [
        "def nSum(a, b):\n",
        "  return a+b\n",
        "\n",
        "nSum(100, 200)  #argument"
      ],
      "metadata": {
        "colab": {
          "base_uri": "https://localhost:8080/"
        },
        "id": "cyBdAZCv2sfT",
        "outputId": "d32682dc-8c8d-47bb-a782-542a6d3210e4"
      },
      "execution_count": 81,
      "outputs": [
        {
          "output_type": "execute_result",
          "data": {
            "text/plain": [
              "300"
            ]
          },
          "metadata": {},
          "execution_count": 81
        }
      ]
    },
    {
      "cell_type": "code",
      "source": [
        "# 집합 생성\n",
        "\n",
        "a = set()\n",
        "print(type(a))\n",
        "\n",
        "a = {1, 2, 3, 4, 2, 4}\n",
        "print(a)  #유니크 한것만 출력"
      ],
      "metadata": {
        "colab": {
          "base_uri": "https://localhost:8080/"
        },
        "id": "fWjPeHa36VaT",
        "outputId": "5da62948-7706-40a6-83ed-ce911b4d6308"
      },
      "execution_count": 83,
      "outputs": [
        {
          "output_type": "stream",
          "name": "stdout",
          "text": [
            "<class 'set'>\n",
            "{1, 2, 3, 4}\n"
          ]
        }
      ]
    },
    {
      "cell_type": "code",
      "source": [
        "a=[1, 2, 3,4, 5, 6, 7, 2, 2, 3, 5, 6, 7, 5, 2]\n",
        "print(a)\n",
        "a= list(set(a))\n",
        "print(a)\n"
      ],
      "metadata": {
        "colab": {
          "base_uri": "https://localhost:8080/"
        },
        "id": "Eg6ioMRs63vd",
        "outputId": "e8b6417b-b9a1-4116-8485-e0f59adfc933"
      },
      "execution_count": 84,
      "outputs": [
        {
          "output_type": "stream",
          "name": "stdout",
          "text": [
            "[1, 2, 3, 4, 5, 6, 7, 2, 2, 3, 5, 6, 7, 5, 2]\n",
            "[1, 2, 3, 4, 5, 6, 7]\n"
          ]
        }
      ]
    },
    {
      "cell_type": "code",
      "source": [
        "#집합의 요소 추가 삭제\n",
        "s={1, 2, 3, 'a','b'}\n",
        "print(s)\n",
        "\n",
        "#요소 1개추가\n",
        "s.add(4)\n",
        "print(s)\n",
        "#요소 여려개 추가\n",
        "s.update(['c', 'd', 5])\n",
        "s.update(['apple'])\n",
        "print(s)\n",
        "s.update('apple')\n",
        "print(s)\n",
        "\n",
        "#요소 1개 삭제\n",
        "s.discard('a')\n",
        "print(s)\n",
        "\n",
        "s.discard('apple')\n",
        "print(s)\n",
        "\n",
        "#특정 요소 삭제\n",
        "s.remove(1)\n",
        "print(s)\n",
        "\n",
        "#임의의 요소 삭제\n",
        "s.pop()\n",
        "print(s)\n"
      ],
      "metadata": {
        "colab": {
          "base_uri": "https://localhost:8080/",
          "height": 331
        },
        "id": "t_bIjNgR7YHq",
        "outputId": "2c771187-008b-4952-c8c1-8f1c4a96385a"
      },
      "execution_count": 94,
      "outputs": [
        {
          "output_type": "stream",
          "name": "stdout",
          "text": [
            "{1, 2, 3, 'b', 'a'}\n",
            "{1, 2, 3, 4, 'b', 'a'}\n",
            "{1, 2, 3, 4, 5, 'apple', 'd', 'c', 'b', 'a'}\n",
            "{1, 2, 3, 4, 5, 'l', 'apple', 'p', 'd', 'e', 'c', 'b', 'a'}\n",
            "{1, 2, 3, 4, 5, 'l', 'apple', 'p', 'd', 'e', 'c', 'b'}\n",
            "{1, 2, 3, 4, 5, 'l', 'p', 'd', 'e', 'c', 'b'}\n"
          ]
        },
        {
          "output_type": "error",
          "ename": "TypeError",
          "evalue": "set.remove() takes exactly one argument (2 given)",
          "traceback": [
            "\u001b[0;31m---------------------------------------------------------------------------\u001b[0m",
            "\u001b[0;31mTypeError\u001b[0m                                 Traceback (most recent call last)",
            "\u001b[0;32m<ipython-input-94-5af1f7de9c8f>\u001b[0m in \u001b[0;36m<cell line: 23>\u001b[0;34m()\u001b[0m\n\u001b[1;32m     21\u001b[0m \u001b[0;34m\u001b[0m\u001b[0m\n\u001b[1;32m     22\u001b[0m \u001b[0;31m#특정 요소 삭제\u001b[0m\u001b[0;34m\u001b[0m\u001b[0;34m\u001b[0m\u001b[0m\n\u001b[0;32m---> 23\u001b[0;31m \u001b[0ms\u001b[0m\u001b[0;34m.\u001b[0m\u001b[0mremove\u001b[0m\u001b[0;34m(\u001b[0m\u001b[0;36m1\u001b[0m\u001b[0;34m,\u001b[0m \u001b[0;36m2\u001b[0m\u001b[0;34m)\u001b[0m\u001b[0;34m\u001b[0m\u001b[0;34m\u001b[0m\u001b[0m\n\u001b[0m\u001b[1;32m     24\u001b[0m \u001b[0mprint\u001b[0m\u001b[0;34m(\u001b[0m\u001b[0ms\u001b[0m\u001b[0;34m)\u001b[0m\u001b[0;34m\u001b[0m\u001b[0;34m\u001b[0m\u001b[0m\n\u001b[1;32m     25\u001b[0m \u001b[0;34m\u001b[0m\u001b[0m\n",
            "\u001b[0;31mTypeError\u001b[0m: set.remove() takes exactly one argument (2 given)"
          ]
        }
      ]
    },
    {
      "cell_type": "code",
      "source": [
        "\n",
        "#집합 전체 삭제\n",
        "del(s)\n",
        "print(s)"
      ],
      "metadata": {
        "colab": {
          "base_uri": "https://localhost:8080/",
          "height": 166
        },
        "id": "zFYaIr-1-CmL",
        "outputId": "c1040598-2106-425d-dc14-e7a70308d1d8"
      },
      "execution_count": 95,
      "outputs": [
        {
          "output_type": "error",
          "ename": "NameError",
          "evalue": "name 's' is not defined",
          "traceback": [
            "\u001b[0;31m---------------------------------------------------------------------------\u001b[0m",
            "\u001b[0;31mNameError\u001b[0m                                 Traceback (most recent call last)",
            "\u001b[0;32m<ipython-input-95-0f21bc0fada7>\u001b[0m in \u001b[0;36m<cell line: 2>\u001b[0;34m()\u001b[0m\n\u001b[1;32m      1\u001b[0m \u001b[0;32mdel\u001b[0m\u001b[0;34m(\u001b[0m\u001b[0ms\u001b[0m\u001b[0;34m)\u001b[0m\u001b[0;34m\u001b[0m\u001b[0;34m\u001b[0m\u001b[0m\n\u001b[0;32m----> 2\u001b[0;31m \u001b[0mprint\u001b[0m\u001b[0;34m(\u001b[0m\u001b[0ms\u001b[0m\u001b[0;34m)\u001b[0m\u001b[0;34m\u001b[0m\u001b[0;34m\u001b[0m\u001b[0m\n\u001b[0m",
            "\u001b[0;31mNameError\u001b[0m: name 's' is not defined"
          ]
        }
      ]
    },
    {
      "cell_type": "code",
      "source": [
        "#교집합 합집합 차집합\n",
        "s1 = {1, 2, 3, 4, 5}\n",
        "s2 = {3, 4, 5, 6, 7}\n",
        "\n",
        "#교집합\n",
        "print(s1 & s2)\n",
        "print(s1.intersection(s2))\n",
        "\n",
        "#합집합\n",
        "print(s1 | s2)\n",
        "print(s1.union(s2))\n",
        "# 차집합\n",
        "print(s1 - s2)\n",
        "print(s1.difference(s2))\n",
        "\n",
        "#또다른 교집합 집합에서\n",
        "s1 = {1, 2, 3, 4, 5}\n",
        "s2 = {3, 4, 5, 6, 7}\n",
        "s3 = {5, 6, 7}\n",
        "print(s1.intersection_update(s2, s3))\n",
        "print(s1)"
      ],
      "metadata": {
        "colab": {
          "base_uri": "https://localhost:8080/"
        },
        "id": "6Us83sxs9dPt",
        "outputId": "5cf8126e-defd-4e2f-b3ec-6fa41fbb38b4"
      },
      "execution_count": 102,
      "outputs": [
        {
          "output_type": "stream",
          "name": "stdout",
          "text": [
            "{3, 4, 5}\n",
            "{3, 4, 5}\n",
            "{1, 2, 3, 4, 5, 6, 7}\n",
            "{1, 2, 3, 4, 5, 6, 7}\n",
            "{1, 2}\n",
            "{1, 2}\n",
            "None\n",
            "{5}\n"
          ]
        }
      ]
    },
    {
      "cell_type": "code",
      "source": [
        "help()"
      ],
      "metadata": {
        "id": "E2jKMAUCAoiJ"
      },
      "execution_count": null,
      "outputs": []
    }
  ]
}