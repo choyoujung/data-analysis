{
  "nbformat": 4,
  "nbformat_minor": 0,
  "metadata": {
    "colab": {
      "provenance": [],
      "authorship_tag": "ABX9TyMGWUHQ1dSG3CWyDpHKLdme",
      "include_colab_link": true
    },
    "kernelspec": {
      "name": "python3",
      "display_name": "Python 3"
    },
    "language_info": {
      "name": "python"
    }
  },
  "cells": [
    {
      "cell_type": "markdown",
      "metadata": {
        "id": "view-in-github",
        "colab_type": "text"
      },
      "source": [
        "<a href=\"https://colab.research.google.com/github/choyoujung/data-analysis/blob/main/7%EC%9D%BC%EC%B0%A8_%ED%8C%8C%EC%9D%BC%EC%9E%85%EC%B6%9C%EB%A0%A5.ipynb\" target=\"_parent\"><img src=\"https://colab.research.google.com/assets/colab-badge.svg\" alt=\"Open In Colab\"/></a>"
      ]
    },
    {
      "cell_type": "code",
      "execution_count": 74,
      "metadata": {
        "id": "XHoH8w9ukc3k"
      },
      "outputs": [],
      "source": [
        "# f = open(\"C:\\python\\dataanalysis\\data\\파이썬기초_배포\\인사말.txt\", 'w')\n",
        "\n",
        "f = open('./새파일.txt', 'w')\n",
        "for i in range(1, 11):\n",
        "    f.write( f'{i:2>}번째 줄입니다.\\n')\n",
        "f.close()"
      ]
    },
    {
      "cell_type": "code",
      "source": [
        "from re import T\n",
        "f = open('./새파일.txt', 'r')\n",
        "line = f.readline()\n",
        "# print(line)\n",
        "\n",
        "while True:\n",
        "    line = f.readline()\n",
        "    if  not line:\n",
        "        break\n",
        "    print(line.strip())\n",
        "f.close()\n"
      ],
      "metadata": {
        "id": "pY0BVS_poLLA"
      },
      "execution_count": null,
      "outputs": []
    },
    {
      "cell_type": "code",
      "source": [
        "f = open('./새파일.txt', 'r')\n",
        "# line = f.readlines()  #리스트 형식\n",
        "\n",
        "for line in f.readlines():\n",
        "    print(line.strip())\n",
        "f.close()"
      ],
      "metadata": {
        "id": "kqGRXIogpzdX"
      },
      "execution_count": null,
      "outputs": []
    },
    {
      "cell_type": "code",
      "source": [
        "f = open('./새파일.txt', 'r')\n",
        "data = f.read()  #문자형 으로 반환\n",
        "print(data)\n",
        "f.close()"
      ],
      "metadata": {
        "id": "uEfKRicNqmye"
      },
      "execution_count": null,
      "outputs": []
    },
    {
      "cell_type": "code",
      "source": [
        "#with open~as~: close 자동 실행 안써도 됨\n",
        "\n",
        "with open('./새파일.txt', 'r') as f:\n",
        "    data = f.read()\n",
        "    print(type(data))\n",
        "    data = data.replace('줄', '사람')\n",
        "    print(type(data))\n",
        "    print(data)\n",
        "\n"
      ],
      "metadata": {
        "colab": {
          "base_uri": "https://localhost:8080/"
        },
        "id": "wMffyxrCqevH",
        "outputId": "be008ba6-b454-4af6-fbe1-d5f0c5c72e2c"
      },
      "execution_count": 35,
      "outputs": [
        {
          "output_type": "stream",
          "name": "stdout",
          "text": [
            "<class 'str'>\n",
            "<class 'str'>\n",
            "1번째 사람입니다.\n",
            "2번째 사람입니다.\n",
            "3번째 사람입니다.\n",
            "4번째 사람입니다.\n",
            "5번째 사람입니다.\n",
            "6번째 사람입니다.\n",
            "7번째 사람입니다.\n",
            "8번째 사람입니다.\n",
            "9번째 사람입니다.\n",
            "10번째 사람입니다.\n",
            "\n"
          ]
        }
      ]
    },
    {
      "cell_type": "code",
      "source": [
        "#os 모듈\n",
        "import os\n",
        "print(f'현재위치 : {os.getcwd()}')\n",
        "print(f'현재위치 리스트: {os.listdir()}')\n",
        "#os.chdir('../')\n",
        "#print(f'현재위치 리스트: {os.listdir()}')\n",
        "#file = '.\\새파일.txt'"
      ],
      "metadata": {
        "colab": {
          "base_uri": "https://localhost:8080/"
        },
        "id": "-hfOnbsfsGB_",
        "outputId": "01f1f22a-1f24-439d-b505-b137ad5af936"
      },
      "execution_count": 75,
      "outputs": [
        {
          "output_type": "stream",
          "name": "stdout",
          "text": [
            "현재위치 : /content\n",
            "현재위치 리스트: ['.config', '.\\\\새파일.txt', '.sample.txt', 'sample.txt', '새파일.txt', 'result.txt', 'sample_data']\n"
          ]
        }
      ]
    },
    {
      "cell_type": "code",
      "source": [
        "#파일 삭제 os.remove\n",
        "import os\n",
        "print(f'현재위치 : {os.getcwd()}')\n",
        "print(f'현재위치 리스트: {os.listdir()}')\n",
        "file = '새파일.txt'\n",
        "if os.path.isfile(file):\n",
        "    os.remove(file)\n",
        "    print(f'{file}파일이 삭제 되었습니다.')\n",
        "else:\n",
        "    print(f'{file}파일이 존재하지 않습니다..')"
      ],
      "metadata": {
        "colab": {
          "base_uri": "https://localhost:8080/"
        },
        "id": "waEQI_NEueGX",
        "outputId": "1c3f6d7a-cdd1-499a-ff6f-4bf46fce9551"
      },
      "execution_count": 70,
      "outputs": [
        {
          "output_type": "stream",
          "name": "stdout",
          "text": [
            "현재위치 : /content\n",
            "현재위치 리스트: ['.config', '.\\\\새파일.txt', '.sample.txt', 'sample.txt', 'result.txt', 'sample_data']\n",
            "\\새파일.txt파일이 존재하지 않습니다..\n"
          ]
        }
      ]
    },
    {
      "cell_type": "code",
      "source": [
        "import random\n",
        "\n",
        "with open('./sample.txt', 'w') as f:\n",
        "    for _ in range(10):\n",
        "        n = str(random.randint(1, 100))\n",
        "        f.write(n+'\\n')\n",
        "\n",
        "f = open('./sample.txt', 'r')\n",
        "data = f.read()\n",
        "print(data)\n",
        "f.close()"
      ],
      "metadata": {
        "colab": {
          "base_uri": "https://localhost:8080/"
        },
        "id": "Guwzo_2vv_Nm",
        "outputId": "e258eb79-a88c-4814-e7a5-84415b323438"
      },
      "execution_count": 51,
      "outputs": [
        {
          "output_type": "stream",
          "name": "stdout",
          "text": [
            "28\n",
            "60\n",
            "68\n",
            "51\n",
            "16\n",
            "13\n",
            "76\n",
            "20\n",
            "4\n",
            "13\n",
            "\n"
          ]
        }
      ]
    },
    {
      "cell_type": "code",
      "source": [
        "# f = open('./sample.txt', 'r')\n",
        "# line = f.readline()\n",
        "with open('./sample.txt','r') as f:\n",
        "    data = [int(line) for line in f.readlines()]\n",
        "\n",
        "    hap = sum(data)\n",
        "    avg = int(hap)/len(data)\n",
        "    cont = f'{data}\\n총합은 {hap} 입니다, \\n평균은 {avg}입니다.'\n",
        "    print(cont)\n",
        "\n",
        "with open('./result.txt','w') as f:\n",
        "    f.write(cont)\n",
        "\n",
        "# aa = sum(int(data.strip()))\n"
      ],
      "metadata": {
        "colab": {
          "base_uri": "https://localhost:8080/"
        },
        "id": "eSQ5js1ay2JX",
        "outputId": "05a6ac14-e633-4ace-9161-f2ed2956ae8c"
      },
      "execution_count": 64,
      "outputs": [
        {
          "output_type": "stream",
          "name": "stdout",
          "text": [
            "[28, 60, 68, 51, 16, 13, 76, 20, 4, 13]\n",
            "총합은 349 입니다, \n",
            "평균은 34.9입니다.\n"
          ]
        }
      ]
    },
    {
      "cell_type": "code",
      "source": [
        "from collections import Counter\n",
        "\n",
        "def get_word_frequency(file_path):\n",
        "    try:\n",
        "        with open(file_path, 'r', encoding='utf-8') as file:\n",
        "            # 파일에서 텍스트를 읽어옴\n",
        "            text = file.read()\n",
        "            # 텍스트에서 구두점과 줄바꿈 문자를 제거하고 소문자로 변환\n",
        "            words = text.lower().replace('\\n', ' ').replace(',', '').replace('.', '').split()\n",
        "            # 단어의 빈도수를 계산하여 Counter 객체 생성\n",
        "            word_counter = Counter(words)\n",
        "            # 빈도수가 높은 상위 10개의 단어 추출\n",
        "            top_10_words = word_counter.most_common(10)\n",
        "            return top_10_words\n",
        "    except FileNotFoundError:\n",
        "        print(\"파일을 찾을 수 없습니다.\")\n",
        "    except Exception as e:\n",
        "        print(f\"오류 발생: {e}\")\n",
        "\n",
        "file_path = \"C:\\python\\dataanalysis\\data\\파이썬기초_배포\\hamlet.txt\"\n",
        "top_10_words = get_word_frequency(file_path)\n",
        "\n",
        "if top_10_words:\n",
        "    print(\"상위 10개 단어와 빈도수:\")\n",
        "    for word, frequency in top_10_words:\n",
        "        print(f\"{word}: {frequency}\")\n",
        "else:\n",
        "    print(\"빈도수를 계산할 파일을 찾을 수 없습니다.\")"
      ],
      "metadata": {
        "colab": {
          "base_uri": "https://localhost:8080/"
        },
        "id": "aJysqQGB4LX-",
        "outputId": "c0e59313-f251-4e0d-a03e-10293c21512a"
      },
      "execution_count": 76,
      "outputs": [
        {
          "output_type": "stream",
          "name": "stdout",
          "text": [
            "파일을 찾을 수 없습니다.\n",
            "빈도수를 계산할 파일을 찾을 수 없습니다.\n"
          ]
        }
      ]
    }
  ]
}