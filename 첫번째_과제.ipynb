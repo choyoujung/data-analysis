{
  "nbformat": 4,
  "nbformat_minor": 0,
  "metadata": {
    "colab": {
      "provenance": [],
      "authorship_tag": "ABX9TyMniacApVisktrZoFmVe/lL",
      "include_colab_link": true
    },
    "kernelspec": {
      "name": "python3",
      "display_name": "Python 3"
    },
    "language_info": {
      "name": "python"
    }
  },
  "cells": [
    {
      "cell_type": "markdown",
      "metadata": {
        "id": "view-in-github",
        "colab_type": "text"
      },
      "source": [
        "<a href=\"https://colab.research.google.com/github/choyoujung/data-analysis/blob/main/%EC%B2%AB%EB%B2%88%EC%A7%B8_%EA%B3%BC%EC%A0%9C.ipynb\" target=\"_parent\"><img src=\"https://colab.research.google.com/assets/colab-badge.svg\" alt=\"Open In Colab\"/></a>"
      ]
    },
    {
      "cell_type": "code",
      "execution_count": 3,
      "metadata": {
        "colab": {
          "base_uri": "https://localhost:8080/"
        },
        "id": "cRzrlY1Wjdr4",
        "outputId": "207e9348-3710-4300-ef72-45d9058661fa"
      },
      "outputs": [
        {
          "output_type": "stream",
          "name": "stdout",
          "text": [
            "프로그램을 작성할 때 일정한 구간의 명령을 \n",
            "반복해서 실행하도록 구성한 구문을 무엇이라 하는가?\n",
            "정답: 1\n",
            "정답을 다시 입력하세요\n",
            "정답: 2\n",
            "정답을 다시 입력하세요\n",
            "정답: 반복문\n",
            "[정답]\n"
          ]
        }
      ],
      "source": [
        "# 반복문을 이용하여 퀴즈를 맞히는 프로그램을 만들어 보세요.\n",
        "# 정답은 키보드로 입력합니다.\n",
        "# 실습문제\n",
        "print('''프로그램을 작성할 때 일정한 구간의 명령을\n",
        "반복해서 실행하도록 구성한 구문을 무엇이라 하는가?''' )\n",
        "while True:\n",
        "    answer = input('정답: ')\n",
        "    if answer == '반복문':\n",
        "        print('[정답]')\n",
        "        break\n",
        "    else:\n",
        "        print('정답을 다시 입력하세요')"
      ]
    },
    {
      "cell_type": "code",
      "source": [],
      "metadata": {
        "id": "A_kZBxXkkOEO"
      },
      "execution_count": null,
      "outputs": []
    },
    {
      "cell_type": "code",
      "source": [
        "# 1000만원을 년 이자율 7%로  저금했을 경우 2000만원이 되는 데 몇 년이\n",
        "# 걸리는지 계산하는 프로그램을 만들어 보세요\n",
        "# 실습문제\n",
        "\n",
        "initial_amount = 1000  # 초기 투자 금액 (만원)\n",
        "target_amount = 2000   # 목표 투자 금액 (만원)\n",
        "interest_rate = 0.07   # 연 이자율\n",
        "\n",
        "years = 0  # 걸리는 년수 초기화\n",
        "\n",
        "while initial_amount < target_amount:\n",
        "    initial_amount *= (1 + interest_rate)  # 이자를 반영하여 초기 투자 금액을 업데이트\n",
        "    years += 1  # 경과한 년수 증가\n",
        "\n",
        "print(f\"{years}년이 걸립니다.\")\n",
        "\n",
        "\n"
      ],
      "metadata": {
        "colab": {
          "base_uri": "https://localhost:8080/"
        },
        "id": "h8WRbBA6kOFl",
        "outputId": "02e3d64a-27b5-4b7f-c7d2-a1f18a15bd10"
      },
      "execution_count": 4,
      "outputs": [
        {
          "output_type": "stream",
          "name": "stdout",
          "text": [
            "11년이 걸립니다.\n"
          ]
        }
      ]
    },
    {
      "cell_type": "code",
      "source": [
        "#  Turtle 이용해서 정오각형을 그리기 → while & for 반복문으로 변환하기\n",
        "import turtle\n",
        "\n",
        "# Turtle 객체 생성\n",
        "tt = turtle.Turtle()\n",
        "\n",
        "# t = turtle.Turtle()\n",
        "\n",
        "# 정오각형 그리기\n",
        "for _ in range(5):\n",
        "    tt.forward(100)  # 변의 길이\n",
        "    tt.right(360 / 5)  # 360을 변의 수로 나눈 각도로 회전\n",
        "\n",
        "# 화면 유지\n",
        "turtle.done()\n",
        "\n",
        "\n"
      ],
      "metadata": {
        "colab": {
          "base_uri": "https://localhost:8080/",
          "height": 370
        },
        "id": "kGb4uAGSlPnh",
        "outputId": "e05bb67d-322c-4eb5-b2e1-bd3784476eb8"
      },
      "execution_count": 8,
      "outputs": [
        {
          "output_type": "error",
          "ename": "TclError",
          "evalue": "no display name and no $DISPLAY environment variable",
          "traceback": [
            "\u001b[0;31m---------------------------------------------------------------------------\u001b[0m",
            "\u001b[0;31mTclError\u001b[0m                                  Traceback (most recent call last)",
            "\u001b[0;32m<ipython-input-8-a86673879ae8>\u001b[0m in \u001b[0;36m<cell line: 5>\u001b[0;34m()\u001b[0m\n\u001b[1;32m      3\u001b[0m \u001b[0;34m\u001b[0m\u001b[0m\n\u001b[1;32m      4\u001b[0m \u001b[0;31m# Turtle 객체 생성\u001b[0m\u001b[0;34m\u001b[0m\u001b[0;34m\u001b[0m\u001b[0m\n\u001b[0;32m----> 5\u001b[0;31m \u001b[0mtt\u001b[0m \u001b[0;34m=\u001b[0m \u001b[0mturtle\u001b[0m\u001b[0;34m.\u001b[0m\u001b[0mTurtle\u001b[0m\u001b[0;34m(\u001b[0m\u001b[0;34m)\u001b[0m\u001b[0;34m\u001b[0m\u001b[0;34m\u001b[0m\u001b[0m\n\u001b[0m\u001b[1;32m      6\u001b[0m \u001b[0;34m\u001b[0m\u001b[0m\n\u001b[1;32m      7\u001b[0m \u001b[0;31m# t = turtle.Turtle()\u001b[0m\u001b[0;34m\u001b[0m\u001b[0;34m\u001b[0m\u001b[0m\n",
            "\u001b[0;32m/usr/lib/python3.10/turtle.py\u001b[0m in \u001b[0;36m__init__\u001b[0;34m(self, shape, undobuffersize, visible)\u001b[0m\n\u001b[1;32m   3812\u001b[0m                  visible=_CFG[\"visible\"]):\n\u001b[1;32m   3813\u001b[0m         \u001b[0;32mif\u001b[0m \u001b[0mTurtle\u001b[0m\u001b[0;34m.\u001b[0m\u001b[0m_screen\u001b[0m \u001b[0;32mis\u001b[0m \u001b[0;32mNone\u001b[0m\u001b[0;34m:\u001b[0m\u001b[0;34m\u001b[0m\u001b[0;34m\u001b[0m\u001b[0m\n\u001b[0;32m-> 3814\u001b[0;31m             \u001b[0mTurtle\u001b[0m\u001b[0;34m.\u001b[0m\u001b[0m_screen\u001b[0m \u001b[0;34m=\u001b[0m \u001b[0mScreen\u001b[0m\u001b[0;34m(\u001b[0m\u001b[0;34m)\u001b[0m\u001b[0;34m\u001b[0m\u001b[0;34m\u001b[0m\u001b[0m\n\u001b[0m\u001b[1;32m   3815\u001b[0m         RawTurtle.__init__(self, Turtle._screen,\n\u001b[1;32m   3816\u001b[0m                            \u001b[0mshape\u001b[0m\u001b[0;34m=\u001b[0m\u001b[0mshape\u001b[0m\u001b[0;34m,\u001b[0m\u001b[0;34m\u001b[0m\u001b[0;34m\u001b[0m\u001b[0m\n",
            "\u001b[0;32m/usr/lib/python3.10/turtle.py\u001b[0m in \u001b[0;36mScreen\u001b[0;34m()\u001b[0m\n\u001b[1;32m   3662\u001b[0m     else return the existing one.\"\"\"\n\u001b[1;32m   3663\u001b[0m     \u001b[0;32mif\u001b[0m \u001b[0mTurtle\u001b[0m\u001b[0;34m.\u001b[0m\u001b[0m_screen\u001b[0m \u001b[0;32mis\u001b[0m \u001b[0;32mNone\u001b[0m\u001b[0;34m:\u001b[0m\u001b[0;34m\u001b[0m\u001b[0;34m\u001b[0m\u001b[0m\n\u001b[0;32m-> 3664\u001b[0;31m         \u001b[0mTurtle\u001b[0m\u001b[0;34m.\u001b[0m\u001b[0m_screen\u001b[0m \u001b[0;34m=\u001b[0m \u001b[0m_Screen\u001b[0m\u001b[0;34m(\u001b[0m\u001b[0;34m)\u001b[0m\u001b[0;34m\u001b[0m\u001b[0;34m\u001b[0m\u001b[0m\n\u001b[0m\u001b[1;32m   3665\u001b[0m     \u001b[0;32mreturn\u001b[0m \u001b[0mTurtle\u001b[0m\u001b[0;34m.\u001b[0m\u001b[0m_screen\u001b[0m\u001b[0;34m\u001b[0m\u001b[0;34m\u001b[0m\u001b[0m\n\u001b[1;32m   3666\u001b[0m \u001b[0;34m\u001b[0m\u001b[0m\n",
            "\u001b[0;32m/usr/lib/python3.10/turtle.py\u001b[0m in \u001b[0;36m__init__\u001b[0;34m(self)\u001b[0m\n\u001b[1;32m   3678\u001b[0m         \u001b[0;31m# preserved (perhaps by passing it as an optional parameter)\u001b[0m\u001b[0;34m\u001b[0m\u001b[0;34m\u001b[0m\u001b[0m\n\u001b[1;32m   3679\u001b[0m         \u001b[0;32mif\u001b[0m \u001b[0m_Screen\u001b[0m\u001b[0;34m.\u001b[0m\u001b[0m_root\u001b[0m \u001b[0;32mis\u001b[0m \u001b[0;32mNone\u001b[0m\u001b[0;34m:\u001b[0m\u001b[0;34m\u001b[0m\u001b[0;34m\u001b[0m\u001b[0m\n\u001b[0;32m-> 3680\u001b[0;31m             \u001b[0m_Screen\u001b[0m\u001b[0;34m.\u001b[0m\u001b[0m_root\u001b[0m \u001b[0;34m=\u001b[0m \u001b[0mself\u001b[0m\u001b[0;34m.\u001b[0m\u001b[0m_root\u001b[0m \u001b[0;34m=\u001b[0m \u001b[0m_Root\u001b[0m\u001b[0;34m(\u001b[0m\u001b[0;34m)\u001b[0m\u001b[0;34m\u001b[0m\u001b[0;34m\u001b[0m\u001b[0m\n\u001b[0m\u001b[1;32m   3681\u001b[0m             \u001b[0mself\u001b[0m\u001b[0;34m.\u001b[0m\u001b[0m_root\u001b[0m\u001b[0;34m.\u001b[0m\u001b[0mtitle\u001b[0m\u001b[0;34m(\u001b[0m\u001b[0m_Screen\u001b[0m\u001b[0;34m.\u001b[0m\u001b[0m_title\u001b[0m\u001b[0;34m)\u001b[0m\u001b[0;34m\u001b[0m\u001b[0;34m\u001b[0m\u001b[0m\n\u001b[1;32m   3682\u001b[0m             \u001b[0mself\u001b[0m\u001b[0;34m.\u001b[0m\u001b[0m_root\u001b[0m\u001b[0;34m.\u001b[0m\u001b[0mondestroy\u001b[0m\u001b[0;34m(\u001b[0m\u001b[0mself\u001b[0m\u001b[0;34m.\u001b[0m\u001b[0m_destroy\u001b[0m\u001b[0;34m)\u001b[0m\u001b[0;34m\u001b[0m\u001b[0;34m\u001b[0m\u001b[0m\n",
            "\u001b[0;32m/usr/lib/python3.10/turtle.py\u001b[0m in \u001b[0;36m__init__\u001b[0;34m(self)\u001b[0m\n\u001b[1;32m    433\u001b[0m     \u001b[0;34m\"\"\"Root class for Screen based on Tkinter.\"\"\"\u001b[0m\u001b[0;34m\u001b[0m\u001b[0;34m\u001b[0m\u001b[0m\n\u001b[1;32m    434\u001b[0m     \u001b[0;32mdef\u001b[0m \u001b[0m__init__\u001b[0m\u001b[0;34m(\u001b[0m\u001b[0mself\u001b[0m\u001b[0;34m)\u001b[0m\u001b[0;34m:\u001b[0m\u001b[0;34m\u001b[0m\u001b[0;34m\u001b[0m\u001b[0m\n\u001b[0;32m--> 435\u001b[0;31m         \u001b[0mTK\u001b[0m\u001b[0;34m.\u001b[0m\u001b[0mTk\u001b[0m\u001b[0;34m.\u001b[0m\u001b[0m__init__\u001b[0m\u001b[0;34m(\u001b[0m\u001b[0mself\u001b[0m\u001b[0;34m)\u001b[0m\u001b[0;34m\u001b[0m\u001b[0;34m\u001b[0m\u001b[0m\n\u001b[0m\u001b[1;32m    436\u001b[0m \u001b[0;34m\u001b[0m\u001b[0m\n\u001b[1;32m    437\u001b[0m     \u001b[0;32mdef\u001b[0m \u001b[0msetupcanvas\u001b[0m\u001b[0;34m(\u001b[0m\u001b[0mself\u001b[0m\u001b[0;34m,\u001b[0m \u001b[0mwidth\u001b[0m\u001b[0;34m,\u001b[0m \u001b[0mheight\u001b[0m\u001b[0;34m,\u001b[0m \u001b[0mcwidth\u001b[0m\u001b[0;34m,\u001b[0m \u001b[0mcheight\u001b[0m\u001b[0;34m)\u001b[0m\u001b[0;34m:\u001b[0m\u001b[0;34m\u001b[0m\u001b[0;34m\u001b[0m\u001b[0m\n",
            "\u001b[0;32m/usr/lib/python3.10/tkinter/__init__.py\u001b[0m in \u001b[0;36m__init__\u001b[0;34m(self, screenName, baseName, className, useTk, sync, use)\u001b[0m\n\u001b[1;32m   2297\u001b[0m                 \u001b[0mbaseName\u001b[0m \u001b[0;34m=\u001b[0m \u001b[0mbaseName\u001b[0m \u001b[0;34m+\u001b[0m \u001b[0mext\u001b[0m\u001b[0;34m\u001b[0m\u001b[0;34m\u001b[0m\u001b[0m\n\u001b[1;32m   2298\u001b[0m         \u001b[0minteractive\u001b[0m \u001b[0;34m=\u001b[0m \u001b[0;32mFalse\u001b[0m\u001b[0;34m\u001b[0m\u001b[0;34m\u001b[0m\u001b[0m\n\u001b[0;32m-> 2299\u001b[0;31m         \u001b[0mself\u001b[0m\u001b[0;34m.\u001b[0m\u001b[0mtk\u001b[0m \u001b[0;34m=\u001b[0m \u001b[0m_tkinter\u001b[0m\u001b[0;34m.\u001b[0m\u001b[0mcreate\u001b[0m\u001b[0;34m(\u001b[0m\u001b[0mscreenName\u001b[0m\u001b[0;34m,\u001b[0m \u001b[0mbaseName\u001b[0m\u001b[0;34m,\u001b[0m \u001b[0mclassName\u001b[0m\u001b[0;34m,\u001b[0m \u001b[0minteractive\u001b[0m\u001b[0;34m,\u001b[0m \u001b[0mwantobjects\u001b[0m\u001b[0;34m,\u001b[0m \u001b[0museTk\u001b[0m\u001b[0;34m,\u001b[0m \u001b[0msync\u001b[0m\u001b[0;34m,\u001b[0m \u001b[0muse\u001b[0m\u001b[0;34m)\u001b[0m\u001b[0;34m\u001b[0m\u001b[0;34m\u001b[0m\u001b[0m\n\u001b[0m\u001b[1;32m   2300\u001b[0m         \u001b[0;32mif\u001b[0m \u001b[0museTk\u001b[0m\u001b[0;34m:\u001b[0m\u001b[0;34m\u001b[0m\u001b[0;34m\u001b[0m\u001b[0m\n\u001b[1;32m   2301\u001b[0m             \u001b[0mself\u001b[0m\u001b[0;34m.\u001b[0m\u001b[0m_loadtk\u001b[0m\u001b[0;34m(\u001b[0m\u001b[0;34m)\u001b[0m\u001b[0;34m\u001b[0m\u001b[0;34m\u001b[0m\u001b[0m\n",
            "\u001b[0;31mTclError\u001b[0m: no display name and no $DISPLAY environment variable"
          ]
        }
      ]
    },
    {
      "cell_type": "code",
      "source": [
        "total_sum = 0\n",
        "for num in range(1, 1001):\n",
        "    if num % 3 == 0:  # 3의 배수인지 확인\n",
        "        total_sum += num\n",
        "\n",
        "print(\"1부터 1000까지의 자연수 중 3의 배수의 합:\", total_sum)\n"
      ],
      "metadata": {
        "colab": {
          "base_uri": "https://localhost:8080/"
        },
        "id": "rhiRZanfoxPm",
        "outputId": "8e969edc-c957-479a-c2a0-992a2744d261"
      },
      "execution_count": 9,
      "outputs": [
        {
          "output_type": "stream",
          "name": "stdout",
          "text": [
            "1부터 1000까지의 자연수 중 3의 배수의 합: 166833\n"
          ]
        }
      ]
    },
    {
      "cell_type": "code",
      "source": [],
      "metadata": {
        "id": "w3llHM9bpD97"
      },
      "execution_count": null,
      "outputs": []
    },
    {
      "cell_type": "code",
      "source": [
        "num = 1\n",
        "total_sum = 0\n",
        "\n",
        "# 1부터 1000까지의 자연수 중 3의 배수의 합 계산\n",
        "while num <= 1000:\n",
        "    if num % 3 == 0:  # 3의 배수인지 확인\n",
        "        total_sum += num\n",
        "    num += 1\n",
        "\n",
        "print(\"1부터 1000까지의 자연수 중 3의 배수의 합:\", total_sum)\n"
      ],
      "metadata": {
        "colab": {
          "base_uri": "https://localhost:8080/"
        },
        "id": "dOTBTFQypD-m",
        "outputId": "7b67a339-7b05-4dcd-a9d0-ad07a8200a12"
      },
      "execution_count": 10,
      "outputs": [
        {
          "output_type": "stream",
          "name": "stdout",
          "text": [
            "1부터 1000까지의 자연수 중 3의 배수의 합: 166833\n"
          ]
        }
      ]
    },
    {
      "cell_type": "code",
      "source": [
        "# 리스트 컴프리헨션을 사용하여 1부터 1000까지의 자연수 중 3의 배수 생성 후 합 계산\n",
        "total_sum = sum([num for num in range(1, 1001) if num % 3 == 0])\n",
        "\n",
        "print(\"1부터 1000까지의 자연수 중 3의 배수의 합:\", total_sum)"
      ],
      "metadata": {
        "colab": {
          "base_uri": "https://localhost:8080/"
        },
        "id": "HL6IDYxFpZZe",
        "outputId": "bfc53358-6301-4584-8fc2-47490082ab1f"
      },
      "execution_count": 11,
      "outputs": [
        {
          "output_type": "stream",
          "name": "stdout",
          "text": [
            "1부터 1000까지의 자연수 중 3의 배수의 합: 166833\n"
          ]
        }
      ]
    },
    {
      "cell_type": "code",
      "source": [
        "num_input = input(\"숫자를 입력하세요: \")\n",
        "\n",
        "for digit in num_input:\n",
        "    num = int(digit)\n",
        "    stars = '*' * (num * 2)\n",
        "    print(stars)\n"
      ],
      "metadata": {
        "colab": {
          "base_uri": "https://localhost:8080/"
        },
        "id": "KcOO2Uh6qE91",
        "outputId": "dc10c932-aeb1-4b21-83dc-a50808ae92e6"
      },
      "execution_count": 12,
      "outputs": [
        {
          "output_type": "stream",
          "name": "stdout",
          "text": [
            "숫자를 입력하세요: 135\n",
            "**\n",
            "******\n",
            "**********\n"
          ]
        }
      ]
    },
    {
      "cell_type": "code",
      "source": [],
      "metadata": {
        "id": "nApeig57qemg"
      },
      "execution_count": null,
      "outputs": []
    },
    {
      "cell_type": "code",
      "source": [
        "for i in range(2, 10):\n",
        "    print(f'{i}단 ----')\n",
        "    for j in range(1, 10):\n",
        "        print(f\"{i} x {j} = {i*j}\")\n"
      ],
      "metadata": {
        "colab": {
          "base_uri": "https://localhost:8080/"
        },
        "id": "qi-6XxZgqenb",
        "outputId": "5c268a0e-9d7e-4737-d3ae-ab399a1f0c13"
      },
      "execution_count": 17,
      "outputs": [
        {
          "output_type": "stream",
          "name": "stdout",
          "text": [
            "2단 ----\n",
            "2 x 1 = 2\n",
            "2 x 2 = 4\n",
            "2 x 3 = 6\n",
            "2 x 4 = 8\n",
            "2 x 5 = 10\n",
            "2 x 6 = 12\n",
            "2 x 7 = 14\n",
            "2 x 8 = 16\n",
            "2 x 9 = 18\n",
            "3단 ----\n",
            "3 x 1 = 3\n",
            "3 x 2 = 6\n",
            "3 x 3 = 9\n",
            "3 x 4 = 12\n",
            "3 x 5 = 15\n",
            "3 x 6 = 18\n",
            "3 x 7 = 21\n",
            "3 x 8 = 24\n",
            "3 x 9 = 27\n",
            "4단 ----\n",
            "4 x 1 = 4\n",
            "4 x 2 = 8\n",
            "4 x 3 = 12\n",
            "4 x 4 = 16\n",
            "4 x 5 = 20\n",
            "4 x 6 = 24\n",
            "4 x 7 = 28\n",
            "4 x 8 = 32\n",
            "4 x 9 = 36\n",
            "5단 ----\n",
            "5 x 1 = 5\n",
            "5 x 2 = 10\n",
            "5 x 3 = 15\n",
            "5 x 4 = 20\n",
            "5 x 5 = 25\n",
            "5 x 6 = 30\n",
            "5 x 7 = 35\n",
            "5 x 8 = 40\n",
            "5 x 9 = 45\n",
            "6단 ----\n",
            "6 x 1 = 6\n",
            "6 x 2 = 12\n",
            "6 x 3 = 18\n",
            "6 x 4 = 24\n",
            "6 x 5 = 30\n",
            "6 x 6 = 36\n",
            "6 x 7 = 42\n",
            "6 x 8 = 48\n",
            "6 x 9 = 54\n",
            "7단 ----\n",
            "7 x 1 = 7\n",
            "7 x 2 = 14\n",
            "7 x 3 = 21\n",
            "7 x 4 = 28\n",
            "7 x 5 = 35\n",
            "7 x 6 = 42\n",
            "7 x 7 = 49\n",
            "7 x 8 = 56\n",
            "7 x 9 = 63\n",
            "8단 ----\n",
            "8 x 1 = 8\n",
            "8 x 2 = 16\n",
            "8 x 3 = 24\n",
            "8 x 4 = 32\n",
            "8 x 5 = 40\n",
            "8 x 6 = 48\n",
            "8 x 7 = 56\n",
            "8 x 8 = 64\n",
            "8 x 9 = 72\n",
            "9단 ----\n",
            "9 x 1 = 9\n",
            "9 x 2 = 18\n",
            "9 x 3 = 27\n",
            "9 x 4 = 36\n",
            "9 x 5 = 45\n",
            "9 x 6 = 54\n",
            "9 x 7 = 63\n",
            "9 x 8 = 72\n",
            "9 x 9 = 81\n"
          ]
        }
      ]
    },
    {
      "cell_type": "code",
      "source": [],
      "metadata": {
        "id": "-uPlfUq5rpP4"
      },
      "execution_count": null,
      "outputs": []
    },
    {
      "cell_type": "code",
      "source": [
        "for i in range(1, 10):\n",
        "    for j in range(2, 10):\n",
        "        print(f\"{j} x {i} = {i*j}\\t\", end=\"\")\n",
        "    print()  # 다음 줄로 넘어감\n"
      ],
      "metadata": {
        "colab": {
          "base_uri": "https://localhost:8080/"
        },
        "id": "Yklcug71rpQ0",
        "outputId": "a3c2ff31-b673-4731-db50-61d1089bbbc2"
      },
      "execution_count": 20,
      "outputs": [
        {
          "output_type": "stream",
          "name": "stdout",
          "text": [
            "2 x 1 = 2\t3 x 1 = 3\t4 x 1 = 4\t5 x 1 = 5\t6 x 1 = 6\t7 x 1 = 7\t8 x 1 = 8\t9 x 1 = 9\t\n",
            "2 x 2 = 4\t3 x 2 = 6\t4 x 2 = 8\t5 x 2 = 10\t6 x 2 = 12\t7 x 2 = 14\t8 x 2 = 16\t9 x 2 = 18\t\n",
            "2 x 3 = 6\t3 x 3 = 9\t4 x 3 = 12\t5 x 3 = 15\t6 x 3 = 18\t7 x 3 = 21\t8 x 3 = 24\t9 x 3 = 27\t\n",
            "2 x 4 = 8\t3 x 4 = 12\t4 x 4 = 16\t5 x 4 = 20\t6 x 4 = 24\t7 x 4 = 28\t8 x 4 = 32\t9 x 4 = 36\t\n",
            "2 x 5 = 10\t3 x 5 = 15\t4 x 5 = 20\t5 x 5 = 25\t6 x 5 = 30\t7 x 5 = 35\t8 x 5 = 40\t9 x 5 = 45\t\n",
            "2 x 6 = 12\t3 x 6 = 18\t4 x 6 = 24\t5 x 6 = 30\t6 x 6 = 36\t7 x 6 = 42\t8 x 6 = 48\t9 x 6 = 54\t\n",
            "2 x 7 = 14\t3 x 7 = 21\t4 x 7 = 28\t5 x 7 = 35\t6 x 7 = 42\t7 x 7 = 49\t8 x 7 = 56\t9 x 7 = 63\t\n",
            "2 x 8 = 16\t3 x 8 = 24\t4 x 8 = 32\t5 x 8 = 40\t6 x 8 = 48\t7 x 8 = 56\t8 x 8 = 64\t9 x 8 = 72\t\n",
            "2 x 9 = 18\t3 x 9 = 27\t4 x 9 = 36\t5 x 9 = 45\t6 x 9 = 54\t7 x 9 = 63\t8 x 9 = 72\t9 x 9 = 81\t\n"
          ]
        }
      ]
    },
    {
      "cell_type": "code",
      "source": [
        "height = float(input(\"공의 높이를 미터 단위로 입력하세요: \"))  # 초기 높이 입력\n",
        "bounce_count = 0  # 튕긴 횟수 초기화\n",
        "\n",
        "while height >= 0.00001:\n",
        "    height /= 2  # 높이의 1/2 만큼 튀어 오름\n",
        "    bounce_count += 1  # 튕긴 횟수 증가\n",
        "\n",
        "print(\"공이 튕긴 총 횟수:\", bounce_count)\n"
      ],
      "metadata": {
        "colab": {
          "base_uri": "https://localhost:8080/"
        },
        "id": "gig6TnCysVBI",
        "outputId": "be4497c6-f1d6-4901-dc47-deed10f68c0d"
      },
      "execution_count": 21,
      "outputs": [
        {
          "output_type": "stream",
          "name": "stdout",
          "text": [
            "공의 높이를 미터 단위로 입력하세요: 30\n",
            "공이 튕긴 총 횟수: 22\n"
          ]
        }
      ]
    },
    {
      "cell_type": "code",
      "source": [
        "import random\n",
        "\n",
        "score = 0  # 초기 점수 설정\n",
        "\n",
        "while True:\n",
        "    print(\"1번 방, 2번 방, 3번 방 중 하나를 선택하세요 : \")\n",
        "    choice = input()\n",
        "\n",
        "\n",
        "    if choice not in ['1', '2', '3']:\n",
        "        print(\"잘못된 입력입니다. 다시 입력하세요.\")\n",
        "        continue\n",
        "\n",
        "    # 범인의 위치 무작위로 선택\n",
        "    criminal_room = random.randint(1, 3)\n",
        "\n",
        "    if int(choice) == criminal_room:\n",
        "        print(\"범인을 잡았습니다! 100점 획득\")\n",
        "        score += 100\n",
        "        print(\"게임 종료. 최종 점수:\", score)\n",
        "        break\n",
        "    else:\n",
        "        print(\"범인을 찾지 못했습니다. -10점 획득\")\n",
        "        score -= 10\n",
        "\n"
      ],
      "metadata": {
        "colab": {
          "base_uri": "https://localhost:8080/"
        },
        "id": "OxBD9y0VsVB9",
        "outputId": "b0c3aa08-353e-4733-a6b6-63caf700ad76"
      },
      "execution_count": 24,
      "outputs": [
        {
          "output_type": "stream",
          "name": "stdout",
          "text": [
            "1번 방, 2번 방, 3번 방 중 하나를 선택하세요 : \n",
            "1\n",
            "범인을 찾지 못했습니다. -10점 획득\n",
            "1번 방, 2번 방, 3번 방 중 하나를 선택하세요 : \n",
            "2\n",
            "범인을 잡았습니다! 100점 획득\n",
            "게임 종료. 최종 점수: 90\n"
          ]
        }
      ]
    },
    {
      "cell_type": "code",
      "source": [
        "aa = '''[커피 자동주문 머신 메뉴] ------------------------------\n",
        "-아메리카노는 2500원\n",
        "-카레라떼는 3000원\n",
        "-카푸치노는 3000원 입니다.\n",
        "원하시는 커피종류와 잔수를 입력하세요.'''\n",
        "print(aa)\n",
        "print('-'*60)\n",
        "am = int(input('아메리카노 : '))\n",
        "krr = int(input('카페라떼 : '))\n",
        "kn = int(input('카푸치노 : '))\n",
        "\n",
        "tot_money = am*2500+krr*3000+kn*3000\n",
        "print(f'지불할 총금액은 {tot_money:,}입니다.')\n",
        "\n",
        "jibul = 0\n",
        "\n",
        "while tot_money > 0:\n",
        "\n",
        "    print(f'-'*60)\n",
        "    print(f'[지불할금액 {tot_money }] ')\n",
        "    jibul = int(input('돈을 입력하세요:'))\n",
        "    print()\n",
        "    tot_money = tot_money - jibul\n",
        "print(f'거스름 돈은 {abs(tot_money)}')\n",
        "print('커피 맛있게 드세요!!')"
      ],
      "metadata": {
        "colab": {
          "base_uri": "https://localhost:8080/"
        },
        "id": "AcvzZDnguVRy",
        "outputId": "d8684a09-dcc9-4ee0-b23d-6d10df2d0294"
      },
      "execution_count": 22,
      "outputs": [
        {
          "output_type": "stream",
          "name": "stdout",
          "text": [
            "[커피 자동주문 머신 메뉴] ------------------------------ \n",
            "-아메리카노는 2500원 \n",
            "-카레라떼는 3000원 \n",
            "-카푸치노는 3000원 입니다. \n",
            "원하시는 커피종류와 잔수를 입력하세요.\n",
            "------------------------------------------------------------\n",
            "아메리카노 : 2\n",
            "카페라떼 : 2\n",
            "카푸치노 : 3\n",
            "지불할 총금액은 20,000입니다.\n",
            "------------------------------------------------------------\n",
            "[지불할금액 20000] \n",
            "돈을 입력하세요:15000\n",
            "\n",
            "------------------------------------------------------------\n",
            "[지불할금액 5000] \n",
            "돈을 입력하세요:20000\n",
            "\n",
            "거스름 돈은 15000\n",
            "커피 맛있게 드세요!!\n"
          ]
        }
      ]
    },
    {
      "cell_type": "code",
      "source": [
        "def initialize_rooms(num_rooms):\n",
        "    return [0] * num_rooms\n",
        "\n",
        "def check_in(rooms):\n",
        "    room_number = int(input(\"체크인할 방 번호를 입력하세요: \"))\n",
        "    if room_number < 1 or room_number > len(rooms):\n",
        "        print(\"잘못된 방 번호입니다.\")\n",
        "        return\n",
        "    if rooms[room_number - 1] == 1:\n",
        "        print(\"이미 손님이 있는 방입니다.\")\n",
        "    else:\n",
        "        rooms[room_number - 1] = 1\n",
        "        print(f\"{room_number}번 방에 체크인 되었습니다.\")\n",
        "\n",
        "def check_out(rooms):\n",
        "    room_number = int(input(\"체크아웃할 방 번호를 입력하세요: \"))\n",
        "    if room_number < 1 or room_number > len(rooms):\n",
        "        print(\"잘못된 방 번호입니다.\")\n",
        "        return\n",
        "    if rooms[room_number - 1] == 0:\n",
        "        print(\"이미 빈 방입니다.\")\n",
        "    else:\n",
        "        rooms[room_number - 1] = 0\n",
        "        print(f\"{room_number}번 방에서 체크아웃 되었습니다.\")\n",
        "\n",
        "def show_status(rooms):\n",
        "    print(\"현재 각 방의 예약 상태를 표시합니다:\")\n",
        "    for i, status in enumerate(rooms, start=1):\n",
        "        print(f\"{i}번 방: {'예약됨' if status == 1 else '빈 방'}\")\n",
        "\n",
        "def main():\n",
        "    num_rooms = int(input(\"호텔의 방 개수를 입력하세요: \"))\n",
        "    rooms = initialize_rooms(num_rooms)\n",
        "\n",
        "    while True:\n",
        "        print(\"\\n< 메뉴 >\")\n",
        "        print(\"1. 체크인\")\n",
        "        print(\"2. 체크아웃\")\n",
        "        print(\"3. 현황 보기\")\n",
        "        print(\"0. 종료하기\")\n",
        "\n",
        "        choice = input(\"메뉴를 선택하세요: \")\n",
        "        if choice == '1':\n",
        "            check_in(rooms)\n",
        "        elif choice == '2':\n",
        "            check_out(rooms)\n",
        "        elif choice == '3':\n",
        "            show_status(rooms)\n",
        "        elif choice == '0':\n",
        "            print(\"프로그램을 종료합니다.\")\n",
        "            break\n",
        "        else:\n",
        "            print(\"잘못된 입력입니다. 다시 입력해주세요.\")\n",
        "\n",
        "if __name__ == \"__main__\":\n",
        "    main()"
      ],
      "metadata": {
        "colab": {
          "base_uri": "https://localhost:8080/"
        },
        "id": "RsbnlIZp-M2E",
        "outputId": "aba2916a-cf09-435d-ad73-c29bf9a50ebd"
      },
      "execution_count": 23,
      "outputs": [
        {
          "output_type": "stream",
          "name": "stdout",
          "text": [
            "호텔의 방 개수를 입력하세요: 5\n",
            "\n",
            "< 메뉴 >\n",
            "1. 체크인\n",
            "2. 체크아웃\n",
            "3. 현황 보기\n",
            "0. 종료하기\n",
            "메뉴를 선택하세요: 1\n",
            "체크인할 방 번호를 입력하세요: 2\n",
            "2번 방에 체크인 되었습니다.\n",
            "\n",
            "< 메뉴 >\n",
            "1. 체크인\n",
            "2. 체크아웃\n",
            "3. 현황 보기\n",
            "0. 종료하기\n",
            "메뉴를 선택하세요: 1\n",
            "체크인할 방 번호를 입력하세요: 2\n",
            "이미 손님이 있는 방입니다.\n",
            "\n",
            "< 메뉴 >\n",
            "1. 체크인\n",
            "2. 체크아웃\n",
            "3. 현황 보기\n",
            "0. 종료하기\n",
            "메뉴를 선택하세요: 2\n",
            "체크아웃할 방 번호를 입력하세요: 1\n",
            "이미 빈 방입니다.\n",
            "\n",
            "< 메뉴 >\n",
            "1. 체크인\n",
            "2. 체크아웃\n",
            "3. 현황 보기\n",
            "0. 종료하기\n",
            "메뉴를 선택하세요: 1\n",
            "체크인할 방 번호를 입력하세요: 2\n",
            "이미 손님이 있는 방입니다.\n",
            "\n",
            "< 메뉴 >\n",
            "1. 체크인\n",
            "2. 체크아웃\n",
            "3. 현황 보기\n",
            "0. 종료하기\n",
            "메뉴를 선택하세요: 3\n",
            "현재 각 방의 예약 상태를 표시합니다:\n",
            "1번 방: 빈 방\n",
            "2번 방: 예약됨\n",
            "3번 방: 빈 방\n",
            "4번 방: 빈 방\n",
            "5번 방: 빈 방\n",
            "\n",
            "< 메뉴 >\n",
            "1. 체크인\n",
            "2. 체크아웃\n",
            "3. 현황 보기\n",
            "0. 종료하기\n",
            "메뉴를 선택하세요: 0\n",
            "프로그램을 종료합니다.\n"
          ]
        }
      ]
    },
    {
      "cell_type": "code",
      "source": [],
      "metadata": {
        "id": "__ZkQ_S4sVCp"
      },
      "execution_count": null,
      "outputs": []
    }
  ]
}