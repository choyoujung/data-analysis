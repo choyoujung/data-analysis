{
  "nbformat": 4,
  "nbformat_minor": 0,
  "metadata": {
    "colab": {
      "provenance": [],
      "authorship_tag": "ABX9TyPw0/xApHN7tsp6qA1RXyrr",
      "include_colab_link": true
    },
    "kernelspec": {
      "name": "python3",
      "display_name": "Python 3"
    },
    "language_info": {
      "name": "python"
    }
  },
  "cells": [
    {
      "cell_type": "markdown",
      "metadata": {
        "id": "view-in-github",
        "colab_type": "text"
      },
      "source": [
        "<a href=\"https://colab.research.google.com/github/choyoujung/data-analysis/blob/main/6%EC%9D%BC%EC%B0%A8_%ED%95%A8%EC%88%98%EC%99%80_%EB%AA%A8%ED%8A%A4.ipynb\" target=\"_parent\"><img src=\"https://colab.research.google.com/assets/colab-badge.svg\" alt=\"Open In Colab\"/></a>"
      ]
    },
    {
      "cell_type": "code",
      "execution_count": null,
      "metadata": {
        "id": "WidoMCZipjKr"
      },
      "outputs": [],
      "source": [
        "import random\n",
        "\n",
        "dice = [0,0,0,0,0,0]\n",
        "x = [1, 2, 3, 4, 5,6]\n",
        "\n",
        "for i in range(1, 101):\n",
        "    random.shuffle(x)\n",
        "    if random.choice(x)=='1':\n",
        "        dice[0] = dice[0] + 1\n",
        "    elif random.choice(x)==2:\n",
        "        dice[1] = dice[1] + 1\n",
        "    elif random.choice(x)==3:\n",
        "        dice[2] = dice[2] + 1\n",
        "    elif random.choice(x)==4:\n",
        "        dice[3] = dice[3] + 1\n",
        "    elif random.choice(x)==5:\n",
        "        dice[4] = dice[4] + 1\n",
        "    elif random.choice(x)==6:\n",
        "        dice[5] = dice[5] + 1\n",
        "\n",
        "aa = max(dice)\n",
        "random.randint(10,20)\n",
        "\n",
        "mav_value = max(dice)\n",
        "\n",
        "max_dice = [ idx+1 for idx, v in enumerate(dice) if v==max.value ]\n"
      ]
    },
    {
      "cell_type": "code",
      "source": [
        "#5 함수와 모듈\n",
        "# 암스트롱 수 구하는 방법\n",
        "#100~999까지의 수중 각자리의 3의 제곱을 더한수가 그수와 같으면 암스트롱\n",
        "\n",
        "def is_arm(aa):\n",
        "    aa_str = str(aa)\n",
        "\n",
        "    _a, _b, _c = int(str(aa_str[0])), int(str(aa_str[1])), int(str(aa_str[2]))\n",
        "\n",
        "    if  int(aa) == _a**3 + _b**3 + _c**3 :\n",
        "        return True\n",
        "    else:\n",
        "        return False\n",
        "\n",
        "for n in range(100, 1000):\n",
        "    if is_arm(n):\n",
        "        print(f'{n}')\n",
        "\n",
        "\n",
        "\n"
      ],
      "metadata": {
        "id": "MT9LNRh1zPi6",
        "colab": {
          "base_uri": "https://localhost:8080/"
        },
        "outputId": "e862c9aa-4d76-485f-c343-f7cf337937ea"
      },
      "execution_count": 8,
      "outputs": [
        {
          "output_type": "stream",
          "name": "stdout",
          "text": [
            "153\n",
            "370\n",
            "371\n",
            "407\n"
          ]
        }
      ]
    },
    {
      "cell_type": "code",
      "source": [
        "mylist = [1, 2, 3, 4, 5, 6, 7, 8, 9, 10]\n",
        "\n",
        "aa = lambda bb : str(bb) if  bb%3 == 0 else bb\n",
        "\n",
        "mylist = list(map(aa, mylist))\n",
        "\n",
        "print(mylist)\n"
      ],
      "metadata": {
        "colab": {
          "base_uri": "https://localhost:8080/"
        },
        "id": "q-MHfkJRdpXK",
        "outputId": "9027940e-61eb-439b-a6b2-693b6f32b21f"
      },
      "execution_count": 20,
      "outputs": [
        {
          "output_type": "stream",
          "name": "stdout",
          "text": [
            "[1, 2, '3', 4, 5, '6', 7, 8, '9', 10]\n"
          ]
        }
      ]
    },
    {
      "cell_type": "code",
      "source": [
        "mylist1 = [1, 2, 3, 4, 5]\n",
        "mylist2 = [2,4,6,8,10]\n",
        "\n",
        "func = lambda x, y:x*y\n",
        "mylist = list(map(func,mylist1, mylist2) )\n",
        "mylist"
      ],
      "metadata": {
        "colab": {
          "base_uri": "https://localhost:8080/"
        },
        "id": "yImMYHx6f2yy",
        "outputId": "4fc2d617-6bcb-48ef-c00f-e550bd1b3631"
      },
      "execution_count": 14,
      "outputs": [
        {
          "output_type": "execute_result",
          "data": {
            "text/plain": [
              "[2, 8, 18, 32, 50]"
            ]
          },
          "metadata": {},
          "execution_count": 14
        }
      ]
    }
  ]
}