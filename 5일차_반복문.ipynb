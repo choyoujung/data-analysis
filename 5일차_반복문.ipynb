{
  "nbformat": 4,
  "nbformat_minor": 0,
  "metadata": {
    "colab": {
      "provenance": [],
      "authorship_tag": "ABX9TyMbl2C3hnmzvh2mFcJ+KBvh",
      "include_colab_link": true
    },
    "kernelspec": {
      "name": "python3",
      "display_name": "Python 3"
    },
    "language_info": {
      "name": "python"
    }
  },
  "cells": [
    {
      "cell_type": "markdown",
      "metadata": {
        "id": "view-in-github",
        "colab_type": "text"
      },
      "source": [
        "<a href=\"https://colab.research.google.com/github/choyoujung/data-analysis/blob/main/5%EC%9D%BC%EC%B0%A8_%EB%B0%98%EB%B3%B5%EB%AC%B8.ipynb\" target=\"_parent\"><img src=\"https://colab.research.google.com/assets/colab-badge.svg\" alt=\"Open In Colab\"/></a>"
      ]
    },
    {
      "cell_type": "code",
      "execution_count": 3,
      "metadata": {
        "colab": {
          "base_uri": "https://localhost:8080/"
        },
        "id": "UEr_ztDjfs1p",
        "outputId": "f1f8de6d-6543-416e-beac-9f8f4b99cbdb"
      },
      "outputs": [
        {
          "output_type": "stream",
          "name": "stdout",
          "text": [
            "0\n",
            "1\n",
            "2\n"
          ]
        }
      ],
      "source": [
        "#5.for 반복문(유한개 반복)\n",
        "for i in range(0, 3, 1):\n",
        "    print(i)\n",
        "\n",
        "# for i in range(3):\n",
        "#     print(i)"
      ]
    },
    {
      "cell_type": "code",
      "source": [
        "a=list(range(1, 11, 1))\n",
        "\n",
        "for i in a:\n",
        "    print(i, end=', ')\n"
      ],
      "metadata": {
        "colab": {
          "base_uri": "https://localhost:8080/"
        },
        "id": "QqXz_pCcoG8o",
        "outputId": "c0a48db7-fa26-4078-a0cf-8eb0bac627fb"
      },
      "execution_count": 7,
      "outputs": [
        {
          "output_type": "stream",
          "name": "stdout",
          "text": [
            "1, 2, 3, 4, 5, 6, 7, 8, 9, 10, "
          ]
        }
      ]
    },
    {
      "cell_type": "code",
      "source": [
        "for i in range(1, 101):\n",
        "    print(i, end='\\t')\n",
        "    if i % 10 == 0:\n",
        "        print()"
      ],
      "metadata": {
        "colab": {
          "base_uri": "https://localhost:8080/"
        },
        "id": "82qjd9eqpwM4",
        "outputId": "9c48cbaf-4206-43b3-ef6b-1c758ce0bcf8"
      },
      "execution_count": 8,
      "outputs": [
        {
          "output_type": "stream",
          "name": "stdout",
          "text": [
            "1\t2\t3\t4\t5\t6\t7\t8\t9\t10\t\n",
            "11\t12\t13\t14\t15\t16\t17\t18\t19\t20\t\n",
            "21\t22\t23\t24\t25\t26\t27\t28\t29\t30\t\n",
            "31\t32\t33\t34\t35\t36\t37\t38\t39\t40\t\n",
            "41\t42\t43\t44\t45\t46\t47\t48\t49\t50\t\n",
            "51\t52\t53\t54\t55\t56\t57\t58\t59\t60\t\n",
            "61\t62\t63\t64\t65\t66\t67\t68\t69\t70\t\n",
            "71\t72\t73\t74\t75\t76\t77\t78\t79\t80\t\n",
            "81\t82\t83\t84\t85\t86\t87\t88\t89\t90\t\n",
            "91\t92\t93\t94\t95\t96\t97\t98\t99\t100\t\n"
          ]
        }
      ]
    },
    {
      "cell_type": "code",
      "source": [
        "for i in 'Python':\n",
        "    print(i)\n"
      ],
      "metadata": {
        "colab": {
          "base_uri": "https://localhost:8080/"
        },
        "id": "P759qM1oqSAo",
        "outputId": "228e1b1d-37e6-4d5e-c7fa-e959ce508f8c"
      },
      "execution_count": 10,
      "outputs": [
        {
          "output_type": "stream",
          "name": "stdout",
          "text": [
            "P\n",
            "y\n",
            "t\n",
            "h\n",
            "o\n",
            "n\n"
          ]
        }
      ]
    },
    {
      "cell_type": "code",
      "source": [
        "for _ in range(3):\n",
        "    print('좋은 아침')"
      ],
      "metadata": {
        "colab": {
          "base_uri": "https://localhost:8080/"
        },
        "id": "MjekkEqrqj1u",
        "outputId": "e23075aa-10ba-44ed-ac72-b72ca60aeb48"
      },
      "execution_count": 11,
      "outputs": [
        {
          "output_type": "stream",
          "name": "stdout",
          "text": [
            "좋은 아침\n",
            "좋은 아침\n",
            "좋은 아침\n"
          ]
        }
      ]
    },
    {
      "cell_type": "code",
      "source": [
        "fruits = ['사과', '포도', '딸기', '키위']\n",
        "for idx,i in enumerate(fruits):\n",
        "    print(idx, i)"
      ],
      "metadata": {
        "colab": {
          "base_uri": "https://localhost:8080/"
        },
        "id": "WALwkvwFqsrv",
        "outputId": "8d38eb41-6fcf-4b86-fc91-2b6d9aa4de8a"
      },
      "execution_count": 12,
      "outputs": [
        {
          "output_type": "stream",
          "name": "stdout",
          "text": [
            "0 사과\n",
            "1 포도\n",
            "2 딸기\n",
            "3 키위\n"
          ]
        }
      ]
    },
    {
      "cell_type": "code",
      "source": [
        "#컬렉션 자료형\n",
        "# for a, b in [(1,2), (3, 4), (5, 6)]:\n",
        "#     print(a, b)\n",
        "\n",
        "item = {1:'사과', 2:'포도'}\n",
        "for key, value in item.items():\n",
        "    print(key, value)\n",
        "    print(key, item[key])"
      ],
      "metadata": {
        "colab": {
          "base_uri": "https://localhost:8080/"
        },
        "id": "GkNHzmaQsX9Y",
        "outputId": "8da3480d-6223-429c-fc68-214ce9881f7f"
      },
      "execution_count": 14,
      "outputs": [
        {
          "output_type": "stream",
          "name": "stdout",
          "text": [
            "1 사과\n",
            "1 사과\n",
            "2 포도\n",
            "2 포도\n"
          ]
        }
      ]
    },
    {
      "cell_type": "code",
      "source": [
        "n = int(input('숫자 입력 : '))\n",
        "sum = 0\n",
        "\n",
        "sum = [a for a in range(1,n+1,2)]\n",
        "print(sum)\n",
        "\n",
        "print('_'*30)\n",
        "\n",
        "for a in range(1,n+1,2):\n",
        "    sum = sum+a\n",
        "print(f'1부터 {n}까지 홀수 합은 : {sum}입니다.')"
      ],
      "metadata": {
        "colab": {
          "base_uri": "https://localhost:8080/"
        },
        "id": "E0cmccFIuY8f",
        "outputId": "35ad105e-499c-4c9a-f560-d490cd5a078b"
      },
      "execution_count": 21,
      "outputs": [
        {
          "output_type": "stream",
          "name": "stdout",
          "text": [
            "숫자 입력 : 100\n",
            "______________________________\n",
            "1부터 100까지 홀수 합은 : 2500입니다.\n"
          ]
        }
      ]
    },
    {
      "cell_type": "code",
      "source": [
        "n = int(input('숫자 입력 : '))\n",
        "hap = sum(  i for i in range(1, n+1, 2)  )\n",
        "print(f'{hap}')\n",
        "\n"
      ],
      "metadata": {
        "colab": {
          "base_uri": "https://localhost:8080/"
        },
        "id": "IXsuDaccwsnG",
        "outputId": "866f3f76-47c5-4b57-b505-601e2d9475bf"
      },
      "execution_count": 1,
      "outputs": [
        {
          "output_type": "stream",
          "name": "stdout",
          "text": [
            "숫자 입력 : 100\n",
            "2500\n"
          ]
        }
      ]
    },
    {
      "cell_type": "code",
      "source": [
        "\n",
        "#정오각형 그리기 코랩에서 사용할수 없음(pc에서 사용)\n",
        "import turtle\n",
        "\n",
        "t = turtle.pen()\n",
        "t.forward(100)\n",
        "t.right(72)\n",
        "\n",
        "turtle.exitonclick()\n"
      ],
      "metadata": {
        "id": "9VI02eZ62Oe7"
      },
      "execution_count": null,
      "outputs": []
    },
    {
      "cell_type": "code",
      "source": [
        "# 1~100 까지 한줄로\n",
        "#a=range(1, 101)\n",
        "\n",
        "# for i in a:\n",
        "#     print(i, end=' ')\n",
        "\n",
        "' '.join([ str(i) for i in range(1, 101)])\n",
        "\n"
      ],
      "metadata": {
        "colab": {
          "base_uri": "https://localhost:8080/",
          "height": 54
        },
        "id": "wJVRnBmB8I5U",
        "outputId": "04be84f9-21e8-4a69-a341-f19d0b4aeeaf"
      },
      "execution_count": 1,
      "outputs": [
        {
          "output_type": "execute_result",
          "data": {
            "text/plain": [
              "'1 2 3 4 5 6 7 8 9 10 11 12 13 14 15 16 17 18 19 20 21 22 23 24 25 26 27 28 29 30 31 32 33 34 35 36 37 38 39 40 41 42 43 44 45 46 47 48 49 50 51 52 53 54 55 56 57 58 59 60 61 62 63 64 65 66 67 68 69 70 71 72 73 74 75 76 77 78 79 80 81 82 83 84 85 86 87 88 89 90 91 92 93 94 95 96 97 98 99 100'"
            ],
            "application/vnd.google.colaboratory.intrinsic+json": {
              "type": "string"
            }
          },
          "metadata": {},
          "execution_count": 1
        }
      ]
    },
    {
      "cell_type": "code",
      "source": [
        "import random\n",
        "# scores =[]\n",
        "# for _ in range(5):\n",
        "#     scores.append(random.randint(1,101))\n",
        "\n",
        "scores =[random.randint(1,101) for _ in range(5)]\n",
        "# scores = [90,25,67,45,80]\n",
        "# n = 0\n",
        "# for i in scores:\n",
        "#     n=n+1\n",
        "#     if i > 60:\n",
        "#         print(f\"{n}번 학생은 합격 입니다.\")\n",
        "#     else:\n",
        "#         print(f\"{n}번 학생은 불합격 입니다.\")\n",
        "\n",
        "for idx,i in enumerate(scores):\n",
        "    if i > 60:\n",
        "        print(f\"{idx+1}번 학생은 {i}점 합격 입니다.\")\n",
        "    else:\n",
        "        print(f\"{idx+1}번 학생은 {i}점 불합격 입니다.\")\n",
        "\n",
        "print('합격') if  i > 60 else print('불합격')"
      ],
      "metadata": {
        "colab": {
          "base_uri": "https://localhost:8080/"
        },
        "id": "IxYiHO--9pe1",
        "outputId": "17a45ec9-3c46-4647-e7eb-1872d06bd2b7"
      },
      "execution_count": 4,
      "outputs": [
        {
          "output_type": "stream",
          "name": "stdout",
          "text": [
            "1번 학생은 67점 합격 입니다.\n",
            "2번 학생은 56점 불합격 입니다.\n",
            "3번 학생은 20점 불합격 입니다.\n",
            "4번 학생은 2점 불합격 입니다.\n",
            "5번 학생은 63점 합격 입니다.\n"
          ]
        }
      ]
    },
    {
      "cell_type": "code",
      "source": [
        "a = list(input('괄호 : '))\n",
        "aa=0\n",
        "print(a)\n",
        "\n",
        "for i in a:\n",
        "    if i=='(' :\n",
        "        r = 1\n",
        "    else: r=-1\n",
        "    aa=aa+r\n",
        "    if aa < 0:\n",
        "        break\n",
        "if i=='(':\n",
        "   aa= -1\n",
        "\n",
        "if aa==0:\n",
        "     print(f'{aa} 임으로 TRUE ')\n",
        "else:\n",
        "    print(f'{aa} 임으로 FALSE ')"
      ],
      "metadata": {
        "colab": {
          "base_uri": "https://localhost:8080/"
        },
        "id": "BotWFfbcEQFU",
        "outputId": "e52db7bd-3955-4364-ae9f-1aa2a9687c0c"
      },
      "execution_count": 9,
      "outputs": [
        {
          "output_type": "stream",
          "name": "stdout",
          "text": [
            "괄호 : ()(()))(\n",
            "['(', ')', '(', '(', ')', ')', ')', '(']\n",
            "-1 임으로 FALSE \n"
          ]
        }
      ]
    },
    {
      "cell_type": "code",
      "source": [
        "#중첩 반목문\n",
        "\n",
        "for i in range(3):\n",
        "    for j in range(3):\n",
        "        print(i, j)"
      ],
      "metadata": {
        "colab": {
          "base_uri": "https://localhost:8080/"
        },
        "id": "ummSnTeCHF2T",
        "outputId": "9fd1cfad-9f00-4e3d-a4c6-fa0f8eeaf99f"
      },
      "execution_count": 10,
      "outputs": [
        {
          "output_type": "stream",
          "name": "stdout",
          "text": [
            "0 0\n",
            "0 1\n",
            "0 2\n",
            "1 0\n",
            "1 1\n",
            "1 2\n",
            "2 0\n",
            "2 1\n",
            "2 2\n"
          ]
        }
      ]
    }
  ]
}