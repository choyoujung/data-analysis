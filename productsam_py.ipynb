{
  "nbformat": 4,
  "nbformat_minor": 0,
  "metadata": {
    "colab": {
      "provenance": [],
      "authorship_tag": "ABX9TyPt8Qh1wXhfzJ36a/k1mur8",
      "include_colab_link": true
    },
    "kernelspec": {
      "name": "python3",
      "display_name": "Python 3"
    },
    "language_info": {
      "name": "python"
    }
  },
  "cells": [
    {
      "cell_type": "markdown",
      "metadata": {
        "id": "view-in-github",
        "colab_type": "text"
      },
      "source": [
        "<a href=\"https://colab.research.google.com/github/choyoujung/data-analysis/blob/main/productsam_py.ipynb\" target=\"_parent\"><img src=\"https://colab.research.google.com/assets/colab-badge.svg\" alt=\"Open In Colab\"/></a>"
      ]
    },
    {
      "cell_type": "code",
      "execution_count": null,
      "metadata": {
        "id": "iqW8RBGkF0Lm"
      },
      "outputs": [],
      "source": [
        "from tkinter import *\n",
        "\n",
        "import os\n",
        "\n",
        "def save():\n",
        "    pro_name = entry1.get()\n",
        "    pro_dan = entry2.get()\n",
        "    pro_cnt = entry3.get()\n",
        "    # print(os.listdir(os.getcwd()))\n",
        "    f = open('test.txt','a')\n",
        "    f.write(f'{pro_name}, {pro_dan}, {pro_cnt}\\n')\n",
        "\n",
        "    print(\"저장 되었습니다.\")\n",
        "\n",
        "def clear():\n",
        "    entry1.delete(0, len(entry1.get()))\n",
        "    entry2.delete(0, len(entry2.get()))\n",
        "    entry3.delete(0, len(entry3.get()))\n",
        "\n",
        "\n",
        "def quit():\n",
        "    main.destroy()\n",
        "\n",
        "\n",
        "\n",
        "main = Tk()\n",
        "main.title(\"품목 등록 하기\")\n",
        "main.geometry(\"600x300\")\n",
        "\n",
        "label1 = Label(main, text = \"품목내용을 등록해 주세요.\", font=(\"궁서체\", 30),  fg=\"blue\")\n",
        "label1.pack()\n",
        "\n",
        "lbl1 = Label(main, text=\"품목명: \", font=\"Arial 10\")  # 메인 윈도우 내 위젯 생성\n",
        "lbl1.pack(side=\"left\")\n",
        "entry1 = Entry(main, justify='left')\n",
        "entry1.pack()\n",
        "\n",
        "lbl2 = Label(main, text=\"단가: \", font=\"Arial 10\")  # 메인 윈도우 내 위젯 생성\n",
        "lbl2.pack(side=\"left\")\n",
        "entry2 = Entry(main, justify='right')\n",
        "entry2.pack()\n",
        "\n",
        "lbl3 = Label(main, text=\"수량: \", font=\"Arial 10\")  # 메인 윈도우 내 위젯 생성\n",
        "lbl3.pack(side=\"left\")\n",
        "entry3 = Entry(main, justify='right')\n",
        "entry3.pack()\n",
        "\n",
        "btn_save = Button(main, text=\"저장\", fg=\"Red\",command=save)\n",
        "btn_save.pack()\n",
        "btn_cancel = Button(main, text=\"취소\", fg=\"Green\", command=clear)\n",
        "btn_cancel.pack()\n",
        "btn_exit = Button(main, text=\" 종료\", fg=\"red\", command=quit)\n",
        "btn_exit.pack()\n",
        "\n",
        "main.mainloop()"
      ]
    }
  ]
}